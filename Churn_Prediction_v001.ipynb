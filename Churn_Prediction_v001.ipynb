{
  "nbformat": 4,
  "nbformat_minor": 0,
  "metadata": {
    "colab": {
      "name": "Churn_Prediction_v001.ipynb",
      "provenance": [],
      "collapsed_sections": [],
      "mount_file_id": "1FusNBnju7QZ_oCzge_B-TKodkSD5z94e",
      "authorship_tag": "ABX9TyMCiiRedVakThXpzIZba/Ny",
      "include_colab_link": true
    },
    "kernelspec": {
      "name": "python3",
      "display_name": "Python 3"
    },
    "language_info": {
      "name": "python"
    }
  },
  "cells": [
    {
      "cell_type": "markdown",
      "metadata": {
        "id": "view-in-github",
        "colab_type": "text"
      },
      "source": [
        "<a href=\"https://colab.research.google.com/github/aroomak/MarketAnalytics/blob/main/Churn_Prediction_v001.ipynb\" target=\"_parent\"><img src=\"https://colab.research.google.com/assets/colab-badge.svg\" alt=\"Open In Colab\"/></a>"
      ]
    },
    {
      "cell_type": "markdown",
      "source": [
        "# Churn Prediction\n",
        "Churn can be considered one of the most important applications of data science in the commercial sector because it plays a major factor in the overall profits earned by the business.\n",
        "\n",
        "Churn means when a client terminates a subscription to a service they have been using. Therefore, churn prediction helps to find customers with high risk of leaving.  Churn prediction can be treated as a classification problem."
      ],
      "metadata": {
        "id": "Ya32XVzuocjW"
      }
    },
    {
      "cell_type": "markdown",
      "source": [
        "I have used the Telco Customer Churn dataset which is available on [Kaggle](https://www.kaggle.com/blastchar/telco-customer-churn)"
      ],
      "metadata": {
        "id": "f6zfFxXToceD"
      }
    },
    {
      "cell_type": "code",
      "execution_count": 2,
      "metadata": {
        "id": "4SiIQYytMtmJ"
      },
      "outputs": [],
      "source": [
        "## import required libraries\n",
        "import pandas as pd\n",
        "import numpy as np\n",
        "import matplotlib.pyplot as plt\n",
        "import seaborn as sns\n",
        "from sklearn.metrics import accuracy_score, confusion_matrix\n",
        "from sklearn.model_selection import RandomizedSearchCV\n",
        "%matplotlib inline  "
      ]
    },
    {
      "cell_type": "markdown",
      "source": [
        "Import the data set and EDA"
      ],
      "metadata": {
        "id": "D_0AYVck2mg1"
      }
    },
    {
      "cell_type": "code",
      "source": [
        "## load the dataset\n",
        "path_d = '/content/drive/MyDrive/Colab Notebooks/MyProtfolio/datasets/'\n",
        "df = pd.read_csv(path_d+'WA_Fn-UseC_-Telco-Customer-Churn.csv')\n",
        "df.info()"
      ],
      "metadata": {
        "colab": {
          "base_uri": "https://localhost:8080/"
        },
        "id": "DqKORU8WodLW",
        "outputId": "60359e0c-998a-40bd-d1a0-d0f6b030798d"
      },
      "execution_count": 3,
      "outputs": [
        {
          "output_type": "stream",
          "name": "stdout",
          "text": [
            "<class 'pandas.core.frame.DataFrame'>\n",
            "RangeIndex: 7043 entries, 0 to 7042\n",
            "Data columns (total 21 columns):\n",
            " #   Column            Non-Null Count  Dtype  \n",
            "---  ------            --------------  -----  \n",
            " 0   customerID        7043 non-null   object \n",
            " 1   gender            7043 non-null   object \n",
            " 2   SeniorCitizen     7043 non-null   int64  \n",
            " 3   Partner           7043 non-null   object \n",
            " 4   Dependents        7043 non-null   object \n",
            " 5   tenure            7043 non-null   int64  \n",
            " 6   PhoneService      7043 non-null   object \n",
            " 7   MultipleLines     7043 non-null   object \n",
            " 8   InternetService   7043 non-null   object \n",
            " 9   OnlineSecurity    7043 non-null   object \n",
            " 10  OnlineBackup      7043 non-null   object \n",
            " 11  DeviceProtection  7043 non-null   object \n",
            " 12  TechSupport       7043 non-null   object \n",
            " 13  StreamingTV       7043 non-null   object \n",
            " 14  StreamingMovies   7043 non-null   object \n",
            " 15  Contract          7043 non-null   object \n",
            " 16  PaperlessBilling  7043 non-null   object \n",
            " 17  PaymentMethod     7043 non-null   object \n",
            " 18  MonthlyCharges    7043 non-null   float64\n",
            " 19  TotalCharges      7043 non-null   object \n",
            " 20  Churn             7043 non-null   object \n",
            "dtypes: float64(1), int64(2), object(18)\n",
            "memory usage: 1.1+ MB\n"
          ]
        }
      ]
    },
    {
      "cell_type": "code",
      "source": [
        "df.head(5)"
      ],
      "metadata": {
        "colab": {
          "base_uri": "https://localhost:8080/",
          "height": 357
        },
        "id": "aP5-RRN672bj",
        "outputId": "d42f6c58-de39-4104-876d-6daf82e56137"
      },
      "execution_count": 3,
      "outputs": [
        {
          "output_type": "execute_result",
          "data": {
            "text/html": [
              "\n",
              "  <div id=\"df-0ec6baf2-92ee-4a1f-b797-4b6f5ea065db\">\n",
              "    <div class=\"colab-df-container\">\n",
              "      <div>\n",
              "<style scoped>\n",
              "    .dataframe tbody tr th:only-of-type {\n",
              "        vertical-align: middle;\n",
              "    }\n",
              "\n",
              "    .dataframe tbody tr th {\n",
              "        vertical-align: top;\n",
              "    }\n",
              "\n",
              "    .dataframe thead th {\n",
              "        text-align: right;\n",
              "    }\n",
              "</style>\n",
              "<table border=\"1\" class=\"dataframe\">\n",
              "  <thead>\n",
              "    <tr style=\"text-align: right;\">\n",
              "      <th></th>\n",
              "      <th>customerID</th>\n",
              "      <th>gender</th>\n",
              "      <th>SeniorCitizen</th>\n",
              "      <th>Partner</th>\n",
              "      <th>Dependents</th>\n",
              "      <th>tenure</th>\n",
              "      <th>PhoneService</th>\n",
              "      <th>MultipleLines</th>\n",
              "      <th>InternetService</th>\n",
              "      <th>OnlineSecurity</th>\n",
              "      <th>OnlineBackup</th>\n",
              "      <th>DeviceProtection</th>\n",
              "      <th>TechSupport</th>\n",
              "      <th>StreamingTV</th>\n",
              "      <th>StreamingMovies</th>\n",
              "      <th>Contract</th>\n",
              "      <th>PaperlessBilling</th>\n",
              "      <th>PaymentMethod</th>\n",
              "      <th>MonthlyCharges</th>\n",
              "      <th>TotalCharges</th>\n",
              "      <th>Churn</th>\n",
              "    </tr>\n",
              "  </thead>\n",
              "  <tbody>\n",
              "    <tr>\n",
              "      <th>0</th>\n",
              "      <td>7590-VHVEG</td>\n",
              "      <td>Female</td>\n",
              "      <td>0</td>\n",
              "      <td>Yes</td>\n",
              "      <td>No</td>\n",
              "      <td>1</td>\n",
              "      <td>No</td>\n",
              "      <td>No phone service</td>\n",
              "      <td>DSL</td>\n",
              "      <td>No</td>\n",
              "      <td>Yes</td>\n",
              "      <td>No</td>\n",
              "      <td>No</td>\n",
              "      <td>No</td>\n",
              "      <td>No</td>\n",
              "      <td>Month-to-month</td>\n",
              "      <td>Yes</td>\n",
              "      <td>Electronic check</td>\n",
              "      <td>29.85</td>\n",
              "      <td>29.85</td>\n",
              "      <td>No</td>\n",
              "    </tr>\n",
              "    <tr>\n",
              "      <th>1</th>\n",
              "      <td>5575-GNVDE</td>\n",
              "      <td>Male</td>\n",
              "      <td>0</td>\n",
              "      <td>No</td>\n",
              "      <td>No</td>\n",
              "      <td>34</td>\n",
              "      <td>Yes</td>\n",
              "      <td>No</td>\n",
              "      <td>DSL</td>\n",
              "      <td>Yes</td>\n",
              "      <td>No</td>\n",
              "      <td>Yes</td>\n",
              "      <td>No</td>\n",
              "      <td>No</td>\n",
              "      <td>No</td>\n",
              "      <td>One year</td>\n",
              "      <td>No</td>\n",
              "      <td>Mailed check</td>\n",
              "      <td>56.95</td>\n",
              "      <td>1889.5</td>\n",
              "      <td>No</td>\n",
              "    </tr>\n",
              "    <tr>\n",
              "      <th>2</th>\n",
              "      <td>3668-QPYBK</td>\n",
              "      <td>Male</td>\n",
              "      <td>0</td>\n",
              "      <td>No</td>\n",
              "      <td>No</td>\n",
              "      <td>2</td>\n",
              "      <td>Yes</td>\n",
              "      <td>No</td>\n",
              "      <td>DSL</td>\n",
              "      <td>Yes</td>\n",
              "      <td>Yes</td>\n",
              "      <td>No</td>\n",
              "      <td>No</td>\n",
              "      <td>No</td>\n",
              "      <td>No</td>\n",
              "      <td>Month-to-month</td>\n",
              "      <td>Yes</td>\n",
              "      <td>Mailed check</td>\n",
              "      <td>53.85</td>\n",
              "      <td>108.15</td>\n",
              "      <td>Yes</td>\n",
              "    </tr>\n",
              "    <tr>\n",
              "      <th>3</th>\n",
              "      <td>7795-CFOCW</td>\n",
              "      <td>Male</td>\n",
              "      <td>0</td>\n",
              "      <td>No</td>\n",
              "      <td>No</td>\n",
              "      <td>45</td>\n",
              "      <td>No</td>\n",
              "      <td>No phone service</td>\n",
              "      <td>DSL</td>\n",
              "      <td>Yes</td>\n",
              "      <td>No</td>\n",
              "      <td>Yes</td>\n",
              "      <td>Yes</td>\n",
              "      <td>No</td>\n",
              "      <td>No</td>\n",
              "      <td>One year</td>\n",
              "      <td>No</td>\n",
              "      <td>Bank transfer (automatic)</td>\n",
              "      <td>42.30</td>\n",
              "      <td>1840.75</td>\n",
              "      <td>No</td>\n",
              "    </tr>\n",
              "    <tr>\n",
              "      <th>4</th>\n",
              "      <td>9237-HQITU</td>\n",
              "      <td>Female</td>\n",
              "      <td>0</td>\n",
              "      <td>No</td>\n",
              "      <td>No</td>\n",
              "      <td>2</td>\n",
              "      <td>Yes</td>\n",
              "      <td>No</td>\n",
              "      <td>Fiber optic</td>\n",
              "      <td>No</td>\n",
              "      <td>No</td>\n",
              "      <td>No</td>\n",
              "      <td>No</td>\n",
              "      <td>No</td>\n",
              "      <td>No</td>\n",
              "      <td>Month-to-month</td>\n",
              "      <td>Yes</td>\n",
              "      <td>Electronic check</td>\n",
              "      <td>70.70</td>\n",
              "      <td>151.65</td>\n",
              "      <td>Yes</td>\n",
              "    </tr>\n",
              "  </tbody>\n",
              "</table>\n",
              "</div>\n",
              "      <button class=\"colab-df-convert\" onclick=\"convertToInteractive('df-0ec6baf2-92ee-4a1f-b797-4b6f5ea065db')\"\n",
              "              title=\"Convert this dataframe to an interactive table.\"\n",
              "              style=\"display:none;\">\n",
              "        \n",
              "  <svg xmlns=\"http://www.w3.org/2000/svg\" height=\"24px\"viewBox=\"0 0 24 24\"\n",
              "       width=\"24px\">\n",
              "    <path d=\"M0 0h24v24H0V0z\" fill=\"none\"/>\n",
              "    <path d=\"M18.56 5.44l.94 2.06.94-2.06 2.06-.94-2.06-.94-.94-2.06-.94 2.06-2.06.94zm-11 1L8.5 8.5l.94-2.06 2.06-.94-2.06-.94L8.5 2.5l-.94 2.06-2.06.94zm10 10l.94 2.06.94-2.06 2.06-.94-2.06-.94-.94-2.06-.94 2.06-2.06.94z\"/><path d=\"M17.41 7.96l-1.37-1.37c-.4-.4-.92-.59-1.43-.59-.52 0-1.04.2-1.43.59L10.3 9.45l-7.72 7.72c-.78.78-.78 2.05 0 2.83L4 21.41c.39.39.9.59 1.41.59.51 0 1.02-.2 1.41-.59l7.78-7.78 2.81-2.81c.8-.78.8-2.07 0-2.86zM5.41 20L4 18.59l7.72-7.72 1.47 1.35L5.41 20z\"/>\n",
              "  </svg>\n",
              "      </button>\n",
              "      \n",
              "  <style>\n",
              "    .colab-df-container {\n",
              "      display:flex;\n",
              "      flex-wrap:wrap;\n",
              "      gap: 12px;\n",
              "    }\n",
              "\n",
              "    .colab-df-convert {\n",
              "      background-color: #E8F0FE;\n",
              "      border: none;\n",
              "      border-radius: 50%;\n",
              "      cursor: pointer;\n",
              "      display: none;\n",
              "      fill: #1967D2;\n",
              "      height: 32px;\n",
              "      padding: 0 0 0 0;\n",
              "      width: 32px;\n",
              "    }\n",
              "\n",
              "    .colab-df-convert:hover {\n",
              "      background-color: #E2EBFA;\n",
              "      box-shadow: 0px 1px 2px rgba(60, 64, 67, 0.3), 0px 1px 3px 1px rgba(60, 64, 67, 0.15);\n",
              "      fill: #174EA6;\n",
              "    }\n",
              "\n",
              "    [theme=dark] .colab-df-convert {\n",
              "      background-color: #3B4455;\n",
              "      fill: #D2E3FC;\n",
              "    }\n",
              "\n",
              "    [theme=dark] .colab-df-convert:hover {\n",
              "      background-color: #434B5C;\n",
              "      box-shadow: 0px 1px 3px 1px rgba(0, 0, 0, 0.15);\n",
              "      filter: drop-shadow(0px 1px 2px rgba(0, 0, 0, 0.3));\n",
              "      fill: #FFFFFF;\n",
              "    }\n",
              "  </style>\n",
              "\n",
              "      <script>\n",
              "        const buttonEl =\n",
              "          document.querySelector('#df-0ec6baf2-92ee-4a1f-b797-4b6f5ea065db button.colab-df-convert');\n",
              "        buttonEl.style.display =\n",
              "          google.colab.kernel.accessAllowed ? 'block' : 'none';\n",
              "\n",
              "        async function convertToInteractive(key) {\n",
              "          const element = document.querySelector('#df-0ec6baf2-92ee-4a1f-b797-4b6f5ea065db');\n",
              "          const dataTable =\n",
              "            await google.colab.kernel.invokeFunction('convertToInteractive',\n",
              "                                                     [key], {});\n",
              "          if (!dataTable) return;\n",
              "\n",
              "          const docLinkHtml = 'Like what you see? Visit the ' +\n",
              "            '<a target=\"_blank\" href=https://colab.research.google.com/notebooks/data_table.ipynb>data table notebook</a>'\n",
              "            + ' to learn more about interactive tables.';\n",
              "          element.innerHTML = '';\n",
              "          dataTable['output_type'] = 'display_data';\n",
              "          await google.colab.output.renderOutput(dataTable, element);\n",
              "          const docLink = document.createElement('div');\n",
              "          docLink.innerHTML = docLinkHtml;\n",
              "          element.appendChild(docLink);\n",
              "        }\n",
              "      </script>\n",
              "    </div>\n",
              "  </div>\n",
              "  "
            ],
            "text/plain": [
              "   customerID  gender  SeniorCitizen  ... MonthlyCharges TotalCharges  Churn\n",
              "0  7590-VHVEG  Female              0  ...          29.85        29.85     No\n",
              "1  5575-GNVDE    Male              0  ...          56.95       1889.5     No\n",
              "2  3668-QPYBK    Male              0  ...          53.85       108.15    Yes\n",
              "3  7795-CFOCW    Male              0  ...          42.30      1840.75     No\n",
              "4  9237-HQITU  Female              0  ...          70.70       151.65    Yes\n",
              "\n",
              "[5 rows x 21 columns]"
            ]
          },
          "metadata": {},
          "execution_count": 3
        }
      ]
    },
    {
      "cell_type": "code",
      "source": [
        "df.columns"
      ],
      "metadata": {
        "colab": {
          "base_uri": "https://localhost:8080/"
        },
        "id": "Kh5HytOjA7pa",
        "outputId": "944fac3e-0667-411c-8543-07a62d18b59b"
      },
      "execution_count": 6,
      "outputs": [
        {
          "output_type": "execute_result",
          "data": {
            "text/plain": [
              "Index(['customerID', 'gender', 'SeniorCitizen', 'Partner', 'Dependents',\n",
              "       'tenure', 'PhoneService', 'MultipleLines', 'InternetService',\n",
              "       'OnlineSecurity', 'OnlineBackup', 'DeviceProtection', 'TechSupport',\n",
              "       'StreamingTV', 'StreamingMovies', 'Contract', 'PaperlessBilling',\n",
              "       'PaymentMethod', 'MonthlyCharges', 'TotalCharges', 'Churn'],\n",
              "      dtype='object')"
            ]
          },
          "metadata": {},
          "execution_count": 6
        }
      ]
    },
    {
      "cell_type": "markdown",
      "source": [
        "# Data Visulization "
      ],
      "metadata": {
        "id": "scvvga1c3yfz"
      }
    },
    {
      "cell_type": "markdown",
      "source": [
        "**Churn-Gender**\n",
        "\n",
        "To see the contribution between customer churn and *gender* "
      ],
      "metadata": {
        "id": "9PCrsoEg8Ety"
      }
    },
    {
      "cell_type": "code",
      "source": [
        "sns.countplot(x='Churn',data=df,hue='gender',palette=\"coolwarm_r\")"
      ],
      "metadata": {
        "colab": {
          "base_uri": "https://localhost:8080/",
          "height": 296
        },
        "id": "QIhJCM9vodH1",
        "outputId": "0ab38360-40ec-4cd5-8593-67defd18190d"
      },
      "execution_count": null,
      "outputs": [
        {
          "output_type": "execute_result",
          "data": {
            "text/plain": [
              "<matplotlib.axes._subplots.AxesSubplot at 0x7f1cdabb6690>"
            ]
          },
          "metadata": {},
          "execution_count": 4
        },
        {
          "output_type": "display_data",
          "data": {
            "image/png": "[encoded data removed]",
            "text/plain": [
              "<Figure size 432x288 with 1 Axes>"
            ]
          },
          "metadata": {
            "needs_background": "light"
          }
        }
      ]
    },
    {
      "cell_type": "markdown",
      "source": [
        "**Churn-InternetService**\n",
        "\n",
        "To see the contribution between customer churn and *Internet Service*"
      ],
      "metadata": {
        "id": "_iz8T_Lr8lY8"
      }
    },
    {
      "cell_type": "code",
      "source": [
        "sns.countplot(x='Churn', data=df, hue='InternetService' )"
      ],
      "metadata": {
        "colab": {
          "base_uri": "https://localhost:8080/",
          "height": 296
        },
        "id": "Xc_xyGqUodAl",
        "outputId": "10449b64-76bc-4603-d6bb-e2941cf236a6"
      },
      "execution_count": null,
      "outputs": [
        {
          "output_type": "execute_result",
          "data": {
            "text/plain": [
              "<matplotlib.axes._subplots.AxesSubplot at 0x7f1cda2b2d90>"
            ]
          },
          "metadata": {},
          "execution_count": 6
        },
        {
          "output_type": "display_data",
          "data": {
            "image/png": "[encoded data removed]",
            "text/plain": [
              "<Figure size 432x288 with 1 Axes>"
            ]
          },
          "metadata": {
            "needs_background": "light"
          }
        }
      ]
    },
    {
      "cell_type": "markdown",
      "source": [
        "From the Churn/internetService figure, fiber optic has the highest churned ration among the other two services. "
      ],
      "metadata": {
        "id": "psFhmlgr9vA9"
      }
    },
    {
      "cell_type": "markdown",
      "source": [
        "**Churn-TechSupport**\n",
        "\n",
        "Check the different states of TechSupport"
      ],
      "metadata": {
        "id": "Vdl7O39h-j8n"
      }
    },
    {
      "cell_type": "code",
      "source": [
        "df['TechSupport'].unique()"
      ],
      "metadata": {
        "colab": {
          "base_uri": "https://localhost:8080/"
        },
        "id": "Gvuvppm9oc9w",
        "outputId": "b8efb2e4-81ef-4ed7-d911-7afb759a5017"
      },
      "execution_count": null,
      "outputs": [
        {
          "output_type": "execute_result",
          "data": {
            "text/plain": [
              "array(['No', 'Yes', 'No internet service'], dtype=object)"
            ]
          },
          "metadata": {},
          "execution_count": 7
        }
      ]
    },
    {
      "cell_type": "code",
      "source": [
        "sns.countplot(x='TechSupport', data=df, hue='Churn')"
      ],
      "metadata": {
        "colab": {
          "base_uri": "https://localhost:8080/",
          "height": 296
        },
        "id": "CFrZNmUu9mWn",
        "outputId": "640f1618-5d67-4280-ceef-099e094fc291"
      },
      "execution_count": null,
      "outputs": [
        {
          "output_type": "execute_result",
          "data": {
            "text/plain": [
              "<matplotlib.axes._subplots.AxesSubplot at 0x7f1cd8517e10>"
            ]
          },
          "metadata": {},
          "execution_count": 8
        },
        {
          "output_type": "display_data",
          "data": {
            "image/png": "[encoded data removed]",
            "text/plain": [
              "<Figure size 432x288 with 1 Axes>"
            ]
          },
          "metadata": {
            "needs_background": "light"
          }
        }
      ]
    },
    {
      "cell_type": "markdown",
      "source": [
        "The services with No TechSupport have the highest churn ration"
      ],
      "metadata": {
        "id": "QEnjgElaEkCZ"
      }
    },
    {
      "cell_type": "markdown",
      "source": [
        "**Churn-Tenure Length**\n",
        "\n",
        "First, ranges of available tenures "
      ],
      "metadata": {
        "id": "Oj38QKbhFEiv"
      }
    },
    {
      "cell_type": "code",
      "source": [
        "df['tenure'].unique()"
      ],
      "metadata": {
        "colab": {
          "base_uri": "https://localhost:8080/"
        },
        "id": "ywN6kznEFwlz",
        "outputId": "45009224-008e-4813-9338-aa5ce7567a68"
      },
      "execution_count": null,
      "outputs": [
        {
          "output_type": "execute_result",
          "data": {
            "text/plain": [
              "array([ 1, 34,  2, 45,  8, 22, 10, 28, 62, 13, 16, 58, 49, 25, 69, 52, 71,\n",
              "       21, 12, 30, 47, 72, 17, 27,  5, 46, 11, 70, 63, 43, 15, 60, 18, 66,\n",
              "        9,  3, 31, 50, 64, 56,  7, 42, 35, 48, 29, 65, 38, 68, 32, 55, 37,\n",
              "       36, 41,  6,  4, 33, 67, 23, 57, 61, 14, 20, 53, 40, 59, 24, 44, 19,\n",
              "       54, 51, 26,  0, 39])"
            ]
          },
          "metadata": {},
          "execution_count": 13
        }
      ]
    },
    {
      "cell_type": "markdown",
      "source": [
        "Number of tenures per duration length "
      ],
      "metadata": {
        "id": "whFXDftuGSzR"
      }
    },
    {
      "cell_type": "code",
      "source": [
        "df['tenure'].value_counts()"
      ],
      "metadata": {
        "colab": {
          "base_uri": "https://localhost:8080/"
        },
        "id": "HhGOhIvm9mRH",
        "outputId": "85b9a327-9102-4119-f9cc-44660fad7310"
      },
      "execution_count": null,
      "outputs": [
        {
          "output_type": "execute_result",
          "data": {
            "text/plain": [
              "1     613\n",
              "72    362\n",
              "2     238\n",
              "3     200\n",
              "4     176\n",
              "     ... \n",
              "28     57\n",
              "39     56\n",
              "44     51\n",
              "36     50\n",
              "0      11\n",
              "Name: tenure, Length: 73, dtype: int64"
            ]
          },
          "metadata": {},
          "execution_count": 12
        }
      ]
    },
    {
      "cell_type": "code",
      "source": [
        "ax = sns.histplot(x = 'tenure', hue = 'Churn', data = df, multiple='dodge')\n",
        "ax.set(xlabel=\"Tenure in Months\", ylabel = \"Count\")"
      ],
      "metadata": {
        "colab": {
          "base_uri": "https://localhost:8080/",
          "height": 296
        },
        "id": "T0HUe-cZ9mNz",
        "outputId": "d4b0bcf8-5246-4226-cf4e-d422f2cd1cf9"
      },
      "execution_count": null,
      "outputs": [
        {
          "output_type": "execute_result",
          "data": {
            "text/plain": [
              "[Text(0, 0.5, 'Count'), Text(0.5, 0, 'Tenure in Months')]"
            ]
          },
          "metadata": {},
          "execution_count": 18
        },
        {
          "output_type": "display_data",
          "data": {
            "image/png": "[encoded data removed]",
            "text/plain": [
              "<Figure size 432x288 with 1 Axes>"
            ]
          },
          "metadata": {
            "needs_background": "light"
          }
        }
      ]
    },
    {
      "cell_type": "markdown",
      "source": [
        "The highlest churn ration is within the first 5 months and it drops due to longer tenure length. While the lowest cancellation among 36 months tenures."
      ],
      "metadata": {
        "id": "G04AW3dVIpBq"
      }
    },
    {
      "cell_type": "markdown",
      "source": [
        "**Churn-Monthly Charges**\n",
        "\n"
      ],
      "metadata": {
        "id": "tezO-xfwJCH7"
      }
    },
    {
      "cell_type": "code",
      "source": [
        "df['MonthlyCharges'].value_counts()"
      ],
      "metadata": {
        "colab": {
          "base_uri": "https://localhost:8080/"
        },
        "id": "6Sy7r6Z2KLTu",
        "outputId": "7d01d6db-dd25-4057-cd4e-dc5210b969d3"
      },
      "execution_count": null,
      "outputs": [
        {
          "output_type": "execute_result",
          "data": {
            "text/plain": [
              "20.05     61\n",
              "19.85     45\n",
              "19.95     44\n",
              "19.90     44\n",
              "20.00     43\n",
              "          ..\n",
              "23.65      1\n",
              "114.70     1\n",
              "43.65      1\n",
              "87.80      1\n",
              "78.70      1\n",
              "Name: MonthlyCharges, Length: 1585, dtype: int64"
            ]
          },
          "metadata": {},
          "execution_count": 21
        }
      ]
    },
    {
      "cell_type": "code",
      "source": [
        "plt.hist(df[df['Churn']=='Yes']['MonthlyCharges'], bins=20)"
      ],
      "metadata": {
        "colab": {
          "base_uri": "https://localhost:8080/",
          "height": 369
        },
        "id": "9MWw6jVIKYCx",
        "outputId": "27a7f0cc-98fe-4139-963a-b4cb15892aeb"
      },
      "execution_count": null,
      "outputs": [
        {
          "output_type": "execute_result",
          "data": {
            "text/plain": [
              "(array([105.,  45.,  29.,  26.,  30.,  93.,  81.,  70.,  30.,  21., 163.,\n",
              "        184., 178., 178., 136., 176., 163., 113.,  39.,   9.]),\n",
              " array([ 18.85 ,  23.825,  28.8  ,  33.775,  38.75 ,  43.725,  48.7  ,\n",
              "         53.675,  58.65 ,  63.625,  68.6  ,  73.575,  78.55 ,  83.525,\n",
              "         88.5  ,  93.475,  98.45 , 103.425, 108.4  , 113.375, 118.35 ]),\n",
              " <a list of 20 Patch objects>)"
            ]
          },
          "metadata": {},
          "execution_count": 33
        },
        {
          "output_type": "display_data",
          "data": {
            "image/png": "[encoded data removed]",
            "text/plain": [
              "<Figure size 432x288 with 1 Axes>"
            ]
          },
          "metadata": {
            "needs_background": "light"
          }
        }
      ]
    },
    {
      "cell_type": "code",
      "source": [
        "sns.histplot(x='MonthlyCharges', hue='Churn', data=df, multiple='dodge')"
      ],
      "metadata": {
        "colab": {
          "base_uri": "https://localhost:8080/",
          "height": 296
        },
        "id": "BS2RIDpl9mJ4",
        "outputId": "0fc700ca-71d2-48cd-d4f5-dfb3a756eb7e"
      },
      "execution_count": null,
      "outputs": [
        {
          "output_type": "execute_result",
          "data": {
            "text/plain": [
              "<matplotlib.axes._subplots.AxesSubplot at 0x7f1cd8183990>"
            ]
          },
          "metadata": {},
          "execution_count": 19
        },
        {
          "output_type": "display_data",
          "data": {
            "image/png": "[encoded data removed]",
            "text/plain": [
              "<Figure size 432x288 with 1 Axes>"
            ]
          },
          "metadata": {
            "needs_background": "light"
          }
        }
      ]
    },
    {
      "cell_type": "markdown",
      "source": [
        "Although there is no clear pattern, but customers with monthly charge of higher than 110 have the least number of service cancellation. "
      ],
      "metadata": {
        "id": "mfDMddSaLl_K"
      }
    },
    {
      "cell_type": "markdown",
      "source": [
        "# Data Preprocessing and Feature Engineering "
      ],
      "metadata": {
        "id": "Yu-t9DS6LmsZ"
      }
    },
    {
      "cell_type": "markdown",
      "source": [
        "We dont need customer ID, drop it"
      ],
      "metadata": {
        "id": "t85w6R33V8np"
      }
    },
    {
      "cell_type": "markdown",
      "source": [
        "![Churn_dataset_description.png](data:image/png;base64,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)"
      ],
      "metadata": {
        "id": "ZOnAHyuyO1w7"
      }
    },
    {
      "cell_type": "markdown",
      "source": [
        "Change Gender column\n",
        "\n",
        "Female:0 , Male:1 "
      ],
      "metadata": {
        "id": "Rn0DMrysPKbd"
      }
    },
    {
      "cell_type": "code",
      "source": [
        "df2 = pd.DataFrame()\n",
        "df2['gender'] = df['gender'].apply(lambda x: 1 if x== 'Male' else 0)\n",
        "# df2['gender']"
      ],
      "metadata": {
        "colab": {
          "base_uri": "https://localhost:8080/"
        },
        "id": "ktP8mmgALlpo",
        "outputId": "58a38878-8024-4f66-be3b-7f05c464d51e"
      },
      "execution_count": 125,
      "outputs": [
        {
          "output_type": "execute_result",
          "data": {
            "text/plain": [
              "0       0\n",
              "1       1\n",
              "2       1\n",
              "3       1\n",
              "4       0\n",
              "       ..\n",
              "7038    1\n",
              "7039    0\n",
              "7040    0\n",
              "7041    1\n",
              "7042    1\n",
              "Name: gender, Length: 7043, dtype: int64"
            ]
          },
          "metadata": {},
          "execution_count": 125
        }
      ]
    },
    {
      "cell_type": "code",
      "source": [
        "## Select the needed columns for one-hot-encoding \n",
        "cols1 = [\n",
        "          # 'customerID', \n",
        "          # 'gender', \n",
        "          # 'SeniorCitizen', \n",
        "          # 'Partner', \n",
        "          # 'Dependents',\n",
        "          # 'tenure', \n",
        "          # 'PhoneService', \n",
        "          'MultipleLines', \n",
        "          'InternetService',\n",
        "          'OnlineSecurity', \n",
        "          'OnlineBackup', \n",
        "          'DeviceProtection', \n",
        "          'TechSupport',\n",
        "          'StreamingTV', \n",
        "          'StreamingMovies', \n",
        "          'Contract', \n",
        "          # 'PaperlessBilling',\n",
        "          'PaymentMethod', \n",
        "          # 'MonthlyCharges', \n",
        "          # 'TotalCharges', \n",
        "          # 'Churn'\n",
        "]"
      ],
      "metadata": {
        "id": "9s65Q2xyASe4"
      },
      "execution_count": 126,
      "outputs": []
    },
    {
      "cell_type": "code",
      "source": [
        "one_hot_encoded_data = pd.get_dummies(df[cols1])\n",
        "df2 = pd.concat([df2, one_hot_encoded_data], axis=1)\n",
        "df2"
      ],
      "metadata": {
        "colab": {
          "base_uri": "https://localhost:8080/",
          "height": 522
        },
        "id": "Fs_WafftHmFI",
        "outputId": "8da89544-6be8-45b1-f516-442419edf543"
      },
      "execution_count": 127,
      "outputs": [
        {
          "output_type": "execute_result",
          "data": {
            "text/html": [
              "\n",
              "  <div id=\"df-e2424956-bb42-4e63-bd4a-239acbb4802a\">\n",
              "    <div class=\"colab-df-container\">\n",
              "      <div>\n",
              "<style scoped>\n",
              "    .dataframe tbody tr th:only-of-type {\n",
              "        vertical-align: middle;\n",
              "    }\n",
              "\n",
              "    .dataframe tbody tr th {\n",
              "        vertical-align: top;\n",
              "    }\n",
              "\n",
              "    .dataframe thead th {\n",
              "        text-align: right;\n",
              "    }\n",
              "</style>\n",
              "<table border=\"1\" class=\"dataframe\">\n",
              "  <thead>\n",
              "    <tr style=\"text-align: right;\">\n",
              "      <th></th>\n",
              "      <th>gender</th>\n",
              "      <th>MultipleLines_No</th>\n",
              "      <th>MultipleLines_No phone service</th>\n",
              "      <th>MultipleLines_Yes</th>\n",
              "      <th>InternetService_DSL</th>\n",
              "      <th>InternetService_Fiber optic</th>\n",
              "      <th>InternetService_No</th>\n",
              "      <th>OnlineSecurity_No</th>\n",
              "      <th>OnlineSecurity_No internet service</th>\n",
              "      <th>OnlineSecurity_Yes</th>\n",
              "      <th>OnlineBackup_No</th>\n",
              "      <th>OnlineBackup_No internet service</th>\n",
              "      <th>OnlineBackup_Yes</th>\n",
              "      <th>DeviceProtection_No</th>\n",
              "      <th>DeviceProtection_No internet service</th>\n",
              "      <th>DeviceProtection_Yes</th>\n",
              "      <th>TechSupport_No</th>\n",
              "      <th>TechSupport_No internet service</th>\n",
              "      <th>TechSupport_Yes</th>\n",
              "      <th>StreamingTV_No</th>\n",
              "      <th>StreamingTV_No internet service</th>\n",
              "      <th>StreamingTV_Yes</th>\n",
              "      <th>StreamingMovies_No</th>\n",
              "      <th>StreamingMovies_No internet service</th>\n",
              "      <th>StreamingMovies_Yes</th>\n",
              "      <th>Contract_Month-to-month</th>\n",
              "      <th>Contract_One year</th>\n",
              "      <th>Contract_Two year</th>\n",
              "      <th>PaymentMethod_Bank transfer (automatic)</th>\n",
              "      <th>PaymentMethod_Credit card (automatic)</th>\n",
              "      <th>PaymentMethod_Electronic check</th>\n",
              "      <th>PaymentMethod_Mailed check</th>\n",
              "    </tr>\n",
              "  </thead>\n",
              "  <tbody>\n",
              "    <tr>\n",
              "      <th>0</th>\n",
              "      <td>0</td>\n",
              "      <td>0</td>\n",
              "      <td>1</td>\n",
              "      <td>0</td>\n",
              "      <td>1</td>\n",
              "      <td>0</td>\n",
              "      <td>0</td>\n",
              "      <td>1</td>\n",
              "      <td>0</td>\n",
              "      <td>0</td>\n",
              "      <td>0</td>\n",
              "      <td>0</td>\n",
              "      <td>1</td>\n",
              "      <td>1</td>\n",
              "      <td>0</td>\n",
              "      <td>0</td>\n",
              "      <td>1</td>\n",
              "      <td>0</td>\n",
              "      <td>0</td>\n",
              "      <td>1</td>\n",
              "      <td>0</td>\n",
              "      <td>0</td>\n",
              "      <td>1</td>\n",
              "      <td>0</td>\n",
              "      <td>0</td>\n",
              "      <td>1</td>\n",
              "      <td>0</td>\n",
              "      <td>0</td>\n",
              "      <td>0</td>\n",
              "      <td>0</td>\n",
              "      <td>1</td>\n",
              "      <td>0</td>\n",
              "    </tr>\n",
              "    <tr>\n",
              "      <th>1</th>\n",
              "      <td>1</td>\n",
              "      <td>1</td>\n",
              "      <td>0</td>\n",
              "      <td>0</td>\n",
              "      <td>1</td>\n",
              "      <td>0</td>\n",
              "      <td>0</td>\n",
              "      <td>0</td>\n",
              "      <td>0</td>\n",
              "      <td>1</td>\n",
              "      <td>1</td>\n",
              "      <td>0</td>\n",
              "      <td>0</td>\n",
              "      <td>0</td>\n",
              "      <td>0</td>\n",
              "      <td>1</td>\n",
              "      <td>1</td>\n",
              "      <td>0</td>\n",
              "      <td>0</td>\n",
              "      <td>1</td>\n",
              "      <td>0</td>\n",
              "      <td>0</td>\n",
              "      <td>1</td>\n",
              "      <td>0</td>\n",
              "      <td>0</td>\n",
              "      <td>0</td>\n",
              "      <td>1</td>\n",
              "      <td>0</td>\n",
              "      <td>0</td>\n",
              "      <td>0</td>\n",
              "      <td>0</td>\n",
              "      <td>1</td>\n",
              "    </tr>\n",
              "    <tr>\n",
              "      <th>2</th>\n",
              "      <td>1</td>\n",
              "      <td>1</td>\n",
              "      <td>0</td>\n",
              "      <td>0</td>\n",
              "      <td>1</td>\n",
              "      <td>0</td>\n",
              "      <td>0</td>\n",
              "      <td>0</td>\n",
              "      <td>0</td>\n",
              "      <td>1</td>\n",
              "      <td>0</td>\n",
              "      <td>0</td>\n",
              "      <td>1</td>\n",
              "      <td>1</td>\n",
              "      <td>0</td>\n",
              "      <td>0</td>\n",
              "      <td>1</td>\n",
              "      <td>0</td>\n",
              "      <td>0</td>\n",
              "      <td>1</td>\n",
              "      <td>0</td>\n",
              "      <td>0</td>\n",
              "      <td>1</td>\n",
              "      <td>0</td>\n",
              "      <td>0</td>\n",
              "      <td>1</td>\n",
              "      <td>0</td>\n",
              "      <td>0</td>\n",
              "      <td>0</td>\n",
              "      <td>0</td>\n",
              "      <td>0</td>\n",
              "      <td>1</td>\n",
              "    </tr>\n",
              "    <tr>\n",
              "      <th>3</th>\n",
              "      <td>1</td>\n",
              "      <td>0</td>\n",
              "      <td>1</td>\n",
              "      <td>0</td>\n",
              "      <td>1</td>\n",
              "      <td>0</td>\n",
              "      <td>0</td>\n",
              "      <td>0</td>\n",
              "      <td>0</td>\n",
              "      <td>1</td>\n",
              "      <td>1</td>\n",
              "      <td>0</td>\n",
              "      <td>0</td>\n",
              "      <td>0</td>\n",
              "      <td>0</td>\n",
              "      <td>1</td>\n",
              "      <td>0</td>\n",
              "      <td>0</td>\n",
              "      <td>1</td>\n",
              "      <td>1</td>\n",
              "      <td>0</td>\n",
              "      <td>0</td>\n",
              "      <td>1</td>\n",
              "      <td>0</td>\n",
              "      <td>0</td>\n",
              "      <td>0</td>\n",
              "      <td>1</td>\n",
              "      <td>0</td>\n",
              "      <td>1</td>\n",
              "      <td>0</td>\n",
              "      <td>0</td>\n",
              "      <td>0</td>\n",
              "    </tr>\n",
              "    <tr>\n",
              "      <th>4</th>\n",
              "      <td>0</td>\n",
              "      <td>1</td>\n",
              "      <td>0</td>\n",
              "      <td>0</td>\n",
              "      <td>0</td>\n",
              "      <td>1</td>\n",
              "      <td>0</td>\n",
              "      <td>1</td>\n",
              "      <td>0</td>\n",
              "      <td>0</td>\n",
              "      <td>1</td>\n",
              "      <td>0</td>\n",
              "      <td>0</td>\n",
              "      <td>1</td>\n",
              "      <td>0</td>\n",
              "      <td>0</td>\n",
              "      <td>1</td>\n",
              "      <td>0</td>\n",
              "      <td>0</td>\n",
              "      <td>1</td>\n",
              "      <td>0</td>\n",
              "      <td>0</td>\n",
              "      <td>1</td>\n",
              "      <td>0</td>\n",
              "      <td>0</td>\n",
              "      <td>1</td>\n",
              "      <td>0</td>\n",
              "      <td>0</td>\n",
              "      <td>0</td>\n",
              "      <td>0</td>\n",
              "      <td>1</td>\n",
              "      <td>0</td>\n",
              "    </tr>\n",
              "    <tr>\n",
              "      <th>...</th>\n",
              "      <td>...</td>\n",
              "      <td>...</td>\n",
              "      <td>...</td>\n",
              "      <td>...</td>\n",
              "      <td>...</td>\n",
              "      <td>...</td>\n",
              "      <td>...</td>\n",
              "      <td>...</td>\n",
              "      <td>...</td>\n",
              "      <td>...</td>\n",
              "      <td>...</td>\n",
              "      <td>...</td>\n",
              "      <td>...</td>\n",
              "      <td>...</td>\n",
              "      <td>...</td>\n",
              "      <td>...</td>\n",
              "      <td>...</td>\n",
              "      <td>...</td>\n",
              "      <td>...</td>\n",
              "      <td>...</td>\n",
              "      <td>...</td>\n",
              "      <td>...</td>\n",
              "      <td>...</td>\n",
              "      <td>...</td>\n",
              "      <td>...</td>\n",
              "      <td>...</td>\n",
              "      <td>...</td>\n",
              "      <td>...</td>\n",
              "      <td>...</td>\n",
              "      <td>...</td>\n",
              "      <td>...</td>\n",
              "      <td>...</td>\n",
              "    </tr>\n",
              "    <tr>\n",
              "      <th>7038</th>\n",
              "      <td>1</td>\n",
              "      <td>0</td>\n",
              "      <td>0</td>\n",
              "      <td>1</td>\n",
              "      <td>1</td>\n",
              "      <td>0</td>\n",
              "      <td>0</td>\n",
              "      <td>0</td>\n",
              "      <td>0</td>\n",
              "      <td>1</td>\n",
              "      <td>1</td>\n",
              "      <td>0</td>\n",
              "      <td>0</td>\n",
              "      <td>0</td>\n",
              "      <td>0</td>\n",
              "      <td>1</td>\n",
              "      <td>0</td>\n",
              "      <td>0</td>\n",
              "      <td>1</td>\n",
              "      <td>0</td>\n",
              "      <td>0</td>\n",
              "      <td>1</td>\n",
              "      <td>0</td>\n",
              "      <td>0</td>\n",
              "      <td>1</td>\n",
              "      <td>0</td>\n",
              "      <td>1</td>\n",
              "      <td>0</td>\n",
              "      <td>0</td>\n",
              "      <td>0</td>\n",
              "      <td>0</td>\n",
              "      <td>1</td>\n",
              "    </tr>\n",
              "    <tr>\n",
              "      <th>7039</th>\n",
              "      <td>0</td>\n",
              "      <td>0</td>\n",
              "      <td>0</td>\n",
              "      <td>1</td>\n",
              "      <td>0</td>\n",
              "      <td>1</td>\n",
              "      <td>0</td>\n",
              "      <td>1</td>\n",
              "      <td>0</td>\n",
              "      <td>0</td>\n",
              "      <td>0</td>\n",
              "      <td>0</td>\n",
              "      <td>1</td>\n",
              "      <td>0</td>\n",
              "      <td>0</td>\n",
              "      <td>1</td>\n",
              "      <td>1</td>\n",
              "      <td>0</td>\n",
              "      <td>0</td>\n",
              "      <td>0</td>\n",
              "      <td>0</td>\n",
              "      <td>1</td>\n",
              "      <td>0</td>\n",
              "      <td>0</td>\n",
              "      <td>1</td>\n",
              "      <td>0</td>\n",
              "      <td>1</td>\n",
              "      <td>0</td>\n",
              "      <td>0</td>\n",
              "      <td>1</td>\n",
              "      <td>0</td>\n",
              "      <td>0</td>\n",
              "    </tr>\n",
              "    <tr>\n",
              "      <th>7040</th>\n",
              "      <td>0</td>\n",
              "      <td>0</td>\n",
              "      <td>1</td>\n",
              "      <td>0</td>\n",
              "      <td>1</td>\n",
              "      <td>0</td>\n",
              "      <td>0</td>\n",
              "      <td>0</td>\n",
              "      <td>0</td>\n",
              "      <td>1</td>\n",
              "      <td>1</td>\n",
              "      <td>0</td>\n",
              "      <td>0</td>\n",
              "      <td>1</td>\n",
              "      <td>0</td>\n",
              "      <td>0</td>\n",
              "      <td>1</td>\n",
              "      <td>0</td>\n",
              "      <td>0</td>\n",
              "      <td>1</td>\n",
              "      <td>0</td>\n",
              "      <td>0</td>\n",
              "      <td>1</td>\n",
              "      <td>0</td>\n",
              "      <td>0</td>\n",
              "      <td>1</td>\n",
              "      <td>0</td>\n",
              "      <td>0</td>\n",
              "      <td>0</td>\n",
              "      <td>0</td>\n",
              "      <td>1</td>\n",
              "      <td>0</td>\n",
              "    </tr>\n",
              "    <tr>\n",
              "      <th>7041</th>\n",
              "      <td>1</td>\n",
              "      <td>0</td>\n",
              "      <td>0</td>\n",
              "      <td>1</td>\n",
              "      <td>0</td>\n",
              "      <td>1</td>\n",
              "      <td>0</td>\n",
              "      <td>1</td>\n",
              "      <td>0</td>\n",
              "      <td>0</td>\n",
              "      <td>1</td>\n",
              "      <td>0</td>\n",
              "      <td>0</td>\n",
              "      <td>1</td>\n",
              "      <td>0</td>\n",
              "      <td>0</td>\n",
              "      <td>1</td>\n",
              "      <td>0</td>\n",
              "      <td>0</td>\n",
              "      <td>1</td>\n",
              "      <td>0</td>\n",
              "      <td>0</td>\n",
              "      <td>1</td>\n",
              "      <td>0</td>\n",
              "      <td>0</td>\n",
              "      <td>1</td>\n",
              "      <td>0</td>\n",
              "      <td>0</td>\n",
              "      <td>0</td>\n",
              "      <td>0</td>\n",
              "      <td>0</td>\n",
              "      <td>1</td>\n",
              "    </tr>\n",
              "    <tr>\n",
              "      <th>7042</th>\n",
              "      <td>1</td>\n",
              "      <td>1</td>\n",
              "      <td>0</td>\n",
              "      <td>0</td>\n",
              "      <td>0</td>\n",
              "      <td>1</td>\n",
              "      <td>0</td>\n",
              "      <td>0</td>\n",
              "      <td>0</td>\n",
              "      <td>1</td>\n",
              "      <td>1</td>\n",
              "      <td>0</td>\n",
              "      <td>0</td>\n",
              "      <td>0</td>\n",
              "      <td>0</td>\n",
              "      <td>1</td>\n",
              "      <td>0</td>\n",
              "      <td>0</td>\n",
              "      <td>1</td>\n",
              "      <td>0</td>\n",
              "      <td>0</td>\n",
              "      <td>1</td>\n",
              "      <td>0</td>\n",
              "      <td>0</td>\n",
              "      <td>1</td>\n",
              "      <td>0</td>\n",
              "      <td>0</td>\n",
              "      <td>1</td>\n",
              "      <td>1</td>\n",
              "      <td>0</td>\n",
              "      <td>0</td>\n",
              "      <td>0</td>\n",
              "    </tr>\n",
              "  </tbody>\n",
              "</table>\n",
              "<p>7043 rows × 32 columns</p>\n",
              "</div>\n",
              "      <button class=\"colab-df-convert\" onclick=\"convertToInteractive('df-e2424956-bb42-4e63-bd4a-239acbb4802a')\"\n",
              "              title=\"Convert this dataframe to an interactive table.\"\n",
              "              style=\"display:none;\">\n",
              "        \n",
              "  <svg xmlns=\"http://www.w3.org/2000/svg\" height=\"24px\"viewBox=\"0 0 24 24\"\n",
              "       width=\"24px\">\n",
              "    <path d=\"M0 0h24v24H0V0z\" fill=\"none\"/>\n",
              "    <path d=\"M18.56 5.44l.94 2.06.94-2.06 2.06-.94-2.06-.94-.94-2.06-.94 2.06-2.06.94zm-11 1L8.5 8.5l.94-2.06 2.06-.94-2.06-.94L8.5 2.5l-.94 2.06-2.06.94zm10 10l.94 2.06.94-2.06 2.06-.94-2.06-.94-.94-2.06-.94 2.06-2.06.94z\"/><path d=\"M17.41 7.96l-1.37-1.37c-.4-.4-.92-.59-1.43-.59-.52 0-1.04.2-1.43.59L10.3 9.45l-7.72 7.72c-.78.78-.78 2.05 0 2.83L4 21.41c.39.39.9.59 1.41.59.51 0 1.02-.2 1.41-.59l7.78-7.78 2.81-2.81c.8-.78.8-2.07 0-2.86zM5.41 20L4 18.59l7.72-7.72 1.47 1.35L5.41 20z\"/>\n",
              "  </svg>\n",
              "      </button>\n",
              "      \n",
              "  <style>\n",
              "    .colab-df-container {\n",
              "      display:flex;\n",
              "      flex-wrap:wrap;\n",
              "      gap: 12px;\n",
              "    }\n",
              "\n",
              "    .colab-df-convert {\n",
              "      background-color: #E8F0FE;\n",
              "      border: none;\n",
              "      border-radius: 50%;\n",
              "      cursor: pointer;\n",
              "      display: none;\n",
              "      fill: #1967D2;\n",
              "      height: 32px;\n",
              "      padding: 0 0 0 0;\n",
              "      width: 32px;\n",
              "    }\n",
              "\n",
              "    .colab-df-convert:hover {\n",
              "      background-color: #E2EBFA;\n",
              "      box-shadow: 0px 1px 2px rgba(60, 64, 67, 0.3), 0px 1px 3px 1px rgba(60, 64, 67, 0.15);\n",
              "      fill: #174EA6;\n",
              "    }\n",
              "\n",
              "    [theme=dark] .colab-df-convert {\n",
              "      background-color: #3B4455;\n",
              "      fill: #D2E3FC;\n",
              "    }\n",
              "\n",
              "    [theme=dark] .colab-df-convert:hover {\n",
              "      background-color: #434B5C;\n",
              "      box-shadow: 0px 1px 3px 1px rgba(0, 0, 0, 0.15);\n",
              "      filter: drop-shadow(0px 1px 2px rgba(0, 0, 0, 0.3));\n",
              "      fill: #FFFFFF;\n",
              "    }\n",
              "  </style>\n",
              "\n",
              "      <script>\n",
              "        const buttonEl =\n",
              "          document.querySelector('#df-e2424956-bb42-4e63-bd4a-239acbb4802a button.colab-df-convert');\n",
              "        buttonEl.style.display =\n",
              "          google.colab.kernel.accessAllowed ? 'block' : 'none';\n",
              "\n",
              "        async function convertToInteractive(key) {\n",
              "          const element = document.querySelector('#df-e2424956-bb42-4e63-bd4a-239acbb4802a');\n",
              "          const dataTable =\n",
              "            await google.colab.kernel.invokeFunction('convertToInteractive',\n",
              "                                                     [key], {});\n",
              "          if (!dataTable) return;\n",
              "\n",
              "          const docLinkHtml = 'Like what you see? Visit the ' +\n",
              "            '<a target=\"_blank\" href=https://colab.research.google.com/notebooks/data_table.ipynb>data table notebook</a>'\n",
              "            + ' to learn more about interactive tables.';\n",
              "          element.innerHTML = '';\n",
              "          dataTable['output_type'] = 'display_data';\n",
              "          await google.colab.output.renderOutput(dataTable, element);\n",
              "          const docLink = document.createElement('div');\n",
              "          docLink.innerHTML = docLinkHtml;\n",
              "          element.appendChild(docLink);\n",
              "        }\n",
              "      </script>\n",
              "    </div>\n",
              "  </div>\n",
              "  "
            ],
            "text/plain": [
              "      gender  ...  PaymentMethod_Mailed check\n",
              "0          0  ...                           0\n",
              "1          1  ...                           1\n",
              "2          1  ...                           1\n",
              "3          1  ...                           0\n",
              "4          0  ...                           0\n",
              "...      ...  ...                         ...\n",
              "7038       1  ...                           1\n",
              "7039       0  ...                           0\n",
              "7040       0  ...                           0\n",
              "7041       1  ...                           1\n",
              "7042       1  ...                           0\n",
              "\n",
              "[7043 rows x 32 columns]"
            ]
          },
          "metadata": {},
          "execution_count": 127
        }
      ]
    },
    {
      "cell_type": "markdown",
      "source": [
        "**Binning continuous numeric data**\n",
        "\n",
        "It can be helpful to create bins of continuous numeric data. Binning data will convert data into discrete buckets, allowing to gain insight into the data in logical ways."
      ],
      "metadata": {
        "id": "qV0ojnnUB_ye"
      }
    },
    {
      "cell_type": "code",
      "source": [
        "fig, ax = plt.subplots()\n",
        "sns.distplot(df['tenure'], bins=20, ax=ax)\n",
        "# ax.set_xlim(0,100)\n",
        "ax.set_xticks(range(0,100,10))\n",
        "ax.grid()"
      ],
      "metadata": {
        "colab": {
          "base_uri": "https://localhost:8080/",
          "height": 334
        },
        "id": "x6-y2kYqHmAw",
        "outputId": "6f3fec8f-445a-47ec-9056-9f1a442d972f"
      },
      "execution_count": 128,
      "outputs": [
        {
          "output_type": "stream",
          "name": "stderr",
          "text": [
            "/usr/local/lib/python3.7/dist-packages/seaborn/distributions.py:2619: FutureWarning: `distplot` is a deprecated function and will be removed in a future version. Please adapt your code to use either `displot` (a figure-level function with similar flexibility) or `histplot` (an axes-level function for histograms).\n",
            "  warnings.warn(msg, FutureWarning)\n"
          ]
        },
        {
          "output_type": "display_data",
          "data": {
            "image/png": "[encoded data removed]",
            "text/plain": [
              "<Figure size 432x288 with 1 Axes>"
            ]
          },
          "metadata": {
            "needs_background": "light"
          }
        }
      ]
    },
    {
      "cell_type": "code",
      "source": [
        "df['tenure'].describe()"
      ],
      "metadata": {
        "colab": {
          "base_uri": "https://localhost:8080/"
        },
        "id": "-TH7xlBzAKin",
        "outputId": "3d65e345-6949-4f71-9d04-3bf9432dd4d6"
      },
      "execution_count": 129,
      "outputs": [
        {
          "output_type": "execute_result",
          "data": {
            "text/plain": [
              "count    7043.000000\n",
              "mean       32.371149\n",
              "std        24.559481\n",
              "min         0.000000\n",
              "25%         9.000000\n",
              "50%        29.000000\n",
              "75%        55.000000\n",
              "max        72.000000\n",
              "Name: tenure, dtype: float64"
            ]
          },
          "metadata": {},
          "execution_count": 129
        }
      ]
    },
    {
      "cell_type": "code",
      "source": [
        "## Numeric => Binning\n",
        "df['tenureCt'] = pd.cut(df['tenure'], [0, 10, 30, 65, 75], \n",
        "                        labels=['ten_0-10','ten_10-30','ten_30-65','ten_65-75'])\n",
        "df['tenureCt']"
      ],
      "metadata": {
        "id": "lLXRsw7APW-N",
        "colab": {
          "base_uri": "https://localhost:8080/"
        },
        "outputId": "1bc42ec1-a20e-423c-d2df-5ddb0efc30d9"
      },
      "execution_count": 130,
      "outputs": [
        {
          "output_type": "execute_result",
          "data": {
            "text/plain": [
              "0        ten_0-10\n",
              "1       ten_30-65\n",
              "2        ten_0-10\n",
              "3       ten_30-65\n",
              "4        ten_0-10\n",
              "          ...    \n",
              "7038    ten_10-30\n",
              "7039    ten_65-75\n",
              "7040    ten_10-30\n",
              "7041     ten_0-10\n",
              "7042    ten_65-75\n",
              "Name: tenureCt, Length: 7043, dtype: category\n",
              "Categories (4, object): ['ten_0-10' < 'ten_10-30' < 'ten_30-65' < 'ten_65-75']"
            ]
          },
          "metadata": {},
          "execution_count": 130
        }
      ]
    },
    {
      "cell_type": "code",
      "source": [
        "## Bins => One Hot Encoding\n",
        "one_hot_encoded_data = pd.get_dummies(df['tenureCt'])\n",
        "df2 = pd.concat([df2, one_hot_encoded_data], axis=1)\n",
        "df2"
      ],
      "metadata": {
        "colab": {
          "base_uri": "https://localhost:8080/",
          "height": 522
        },
        "id": "Yw__7dW9Rh1o",
        "outputId": "5e22e422-aeb8-45fd-c83e-7bc1d761737c"
      },
      "execution_count": 131,
      "outputs": [
        {
          "output_type": "execute_result",
          "data": {
            "text/html": [
              "\n",
              "  <div id=\"df-94b716da-48bd-435c-9909-d5f768ddc4f9\">\n",
              "    <div class=\"colab-df-container\">\n",
              "      <div>\n",
              "<style scoped>\n",
              "    .dataframe tbody tr th:only-of-type {\n",
              "        vertical-align: middle;\n",
              "    }\n",
              "\n",
              "    .dataframe tbody tr th {\n",
              "        vertical-align: top;\n",
              "    }\n",
              "\n",
              "    .dataframe thead th {\n",
              "        text-align: right;\n",
              "    }\n",
              "</style>\n",
              "<table border=\"1\" class=\"dataframe\">\n",
              "  <thead>\n",
              "    <tr style=\"text-align: right;\">\n",
              "      <th></th>\n",
              "      <th>gender</th>\n",
              "      <th>MultipleLines_No</th>\n",
              "      <th>MultipleLines_No phone service</th>\n",
              "      <th>MultipleLines_Yes</th>\n",
              "      <th>InternetService_DSL</th>\n",
              "      <th>InternetService_Fiber optic</th>\n",
              "      <th>InternetService_No</th>\n",
              "      <th>OnlineSecurity_No</th>\n",
              "      <th>OnlineSecurity_No internet service</th>\n",
              "      <th>OnlineSecurity_Yes</th>\n",
              "      <th>OnlineBackup_No</th>\n",
              "      <th>OnlineBackup_No internet service</th>\n",
              "      <th>OnlineBackup_Yes</th>\n",
              "      <th>DeviceProtection_No</th>\n",
              "      <th>DeviceProtection_No internet service</th>\n",
              "      <th>DeviceProtection_Yes</th>\n",
              "      <th>TechSupport_No</th>\n",
              "      <th>TechSupport_No internet service</th>\n",
              "      <th>TechSupport_Yes</th>\n",
              "      <th>StreamingTV_No</th>\n",
              "      <th>StreamingTV_No internet service</th>\n",
              "      <th>StreamingTV_Yes</th>\n",
              "      <th>StreamingMovies_No</th>\n",
              "      <th>StreamingMovies_No internet service</th>\n",
              "      <th>StreamingMovies_Yes</th>\n",
              "      <th>Contract_Month-to-month</th>\n",
              "      <th>Contract_One year</th>\n",
              "      <th>Contract_Two year</th>\n",
              "      <th>PaymentMethod_Bank transfer (automatic)</th>\n",
              "      <th>PaymentMethod_Credit card (automatic)</th>\n",
              "      <th>PaymentMethod_Electronic check</th>\n",
              "      <th>PaymentMethod_Mailed check</th>\n",
              "      <th>ten_0-10</th>\n",
              "      <th>ten_10-30</th>\n",
              "      <th>ten_30-65</th>\n",
              "      <th>ten_65-75</th>\n",
              "    </tr>\n",
              "  </thead>\n",
              "  <tbody>\n",
              "    <tr>\n",
              "      <th>0</th>\n",
              "      <td>0</td>\n",
              "      <td>0</td>\n",
              "      <td>1</td>\n",
              "      <td>0</td>\n",
              "      <td>1</td>\n",
              "      <td>0</td>\n",
              "      <td>0</td>\n",
              "      <td>1</td>\n",
              "      <td>0</td>\n",
              "      <td>0</td>\n",
              "      <td>0</td>\n",
              "      <td>0</td>\n",
              "      <td>1</td>\n",
              "      <td>1</td>\n",
              "      <td>0</td>\n",
              "      <td>0</td>\n",
              "      <td>1</td>\n",
              "      <td>0</td>\n",
              "      <td>0</td>\n",
              "      <td>1</td>\n",
              "      <td>0</td>\n",
              "      <td>0</td>\n",
              "      <td>1</td>\n",
              "      <td>0</td>\n",
              "      <td>0</td>\n",
              "      <td>1</td>\n",
              "      <td>0</td>\n",
              "      <td>0</td>\n",
              "      <td>0</td>\n",
              "      <td>0</td>\n",
              "      <td>1</td>\n",
              "      <td>0</td>\n",
              "      <td>1</td>\n",
              "      <td>0</td>\n",
              "      <td>0</td>\n",
              "      <td>0</td>\n",
              "    </tr>\n",
              "    <tr>\n",
              "      <th>1</th>\n",
              "      <td>1</td>\n",
              "      <td>1</td>\n",
              "      <td>0</td>\n",
              "      <td>0</td>\n",
              "      <td>1</td>\n",
              "      <td>0</td>\n",
              "      <td>0</td>\n",
              "      <td>0</td>\n",
              "      <td>0</td>\n",
              "      <td>1</td>\n",
              "      <td>1</td>\n",
              "      <td>0</td>\n",
              "      <td>0</td>\n",
              "      <td>0</td>\n",
              "      <td>0</td>\n",
              "      <td>1</td>\n",
              "      <td>1</td>\n",
              "      <td>0</td>\n",
              "      <td>0</td>\n",
              "      <td>1</td>\n",
              "      <td>0</td>\n",
              "      <td>0</td>\n",
              "      <td>1</td>\n",
              "      <td>0</td>\n",
              "      <td>0</td>\n",
              "      <td>0</td>\n",
              "      <td>1</td>\n",
              "      <td>0</td>\n",
              "      <td>0</td>\n",
              "      <td>0</td>\n",
              "      <td>0</td>\n",
              "      <td>1</td>\n",
              "      <td>0</td>\n",
              "      <td>0</td>\n",
              "      <td>1</td>\n",
              "      <td>0</td>\n",
              "    </tr>\n",
              "    <tr>\n",
              "      <th>2</th>\n",
              "      <td>1</td>\n",
              "      <td>1</td>\n",
              "      <td>0</td>\n",
              "      <td>0</td>\n",
              "      <td>1</td>\n",
              "      <td>0</td>\n",
              "      <td>0</td>\n",
              "      <td>0</td>\n",
              "      <td>0</td>\n",
              "      <td>1</td>\n",
              "      <td>0</td>\n",
              "      <td>0</td>\n",
              "      <td>1</td>\n",
              "      <td>1</td>\n",
              "      <td>0</td>\n",
              "      <td>0</td>\n",
              "      <td>1</td>\n",
              "      <td>0</td>\n",
              "      <td>0</td>\n",
              "      <td>1</td>\n",
              "      <td>0</td>\n",
              "      <td>0</td>\n",
              "      <td>1</td>\n",
              "      <td>0</td>\n",
              "      <td>0</td>\n",
              "      <td>1</td>\n",
              "      <td>0</td>\n",
              "      <td>0</td>\n",
              "      <td>0</td>\n",
              "      <td>0</td>\n",
              "      <td>0</td>\n",
              "      <td>1</td>\n",
              "      <td>1</td>\n",
              "      <td>0</td>\n",
              "      <td>0</td>\n",
              "      <td>0</td>\n",
              "    </tr>\n",
              "    <tr>\n",
              "      <th>3</th>\n",
              "      <td>1</td>\n",
              "      <td>0</td>\n",
              "      <td>1</td>\n",
              "      <td>0</td>\n",
              "      <td>1</td>\n",
              "      <td>0</td>\n",
              "      <td>0</td>\n",
              "      <td>0</td>\n",
              "      <td>0</td>\n",
              "      <td>1</td>\n",
              "      <td>1</td>\n",
              "      <td>0</td>\n",
              "      <td>0</td>\n",
              "      <td>0</td>\n",
              "      <td>0</td>\n",
              "      <td>1</td>\n",
              "      <td>0</td>\n",
              "      <td>0</td>\n",
              "      <td>1</td>\n",
              "      <td>1</td>\n",
              "      <td>0</td>\n",
              "      <td>0</td>\n",
              "      <td>1</td>\n",
              "      <td>0</td>\n",
              "      <td>0</td>\n",
              "      <td>0</td>\n",
              "      <td>1</td>\n",
              "      <td>0</td>\n",
              "      <td>1</td>\n",
              "      <td>0</td>\n",
              "      <td>0</td>\n",
              "      <td>0</td>\n",
              "      <td>0</td>\n",
              "      <td>0</td>\n",
              "      <td>1</td>\n",
              "      <td>0</td>\n",
              "    </tr>\n",
              "    <tr>\n",
              "      <th>4</th>\n",
              "      <td>0</td>\n",
              "      <td>1</td>\n",
              "      <td>0</td>\n",
              "      <td>0</td>\n",
              "      <td>0</td>\n",
              "      <td>1</td>\n",
              "      <td>0</td>\n",
              "      <td>1</td>\n",
              "      <td>0</td>\n",
              "      <td>0</td>\n",
              "      <td>1</td>\n",
              "      <td>0</td>\n",
              "      <td>0</td>\n",
              "      <td>1</td>\n",
              "      <td>0</td>\n",
              "      <td>0</td>\n",
              "      <td>1</td>\n",
              "      <td>0</td>\n",
              "      <td>0</td>\n",
              "      <td>1</td>\n",
              "      <td>0</td>\n",
              "      <td>0</td>\n",
              "      <td>1</td>\n",
              "      <td>0</td>\n",
              "      <td>0</td>\n",
              "      <td>1</td>\n",
              "      <td>0</td>\n",
              "      <td>0</td>\n",
              "      <td>0</td>\n",
              "      <td>0</td>\n",
              "      <td>1</td>\n",
              "      <td>0</td>\n",
              "      <td>1</td>\n",
              "      <td>0</td>\n",
              "      <td>0</td>\n",
              "      <td>0</td>\n",
              "    </tr>\n",
              "    <tr>\n",
              "      <th>...</th>\n",
              "      <td>...</td>\n",
              "      <td>...</td>\n",
              "      <td>...</td>\n",
              "      <td>...</td>\n",
              "      <td>...</td>\n",
              "      <td>...</td>\n",
              "      <td>...</td>\n",
              "      <td>...</td>\n",
              "      <td>...</td>\n",
              "      <td>...</td>\n",
              "      <td>...</td>\n",
              "      <td>...</td>\n",
              "      <td>...</td>\n",
              "      <td>...</td>\n",
              "      <td>...</td>\n",
              "      <td>...</td>\n",
              "      <td>...</td>\n",
              "      <td>...</td>\n",
              "      <td>...</td>\n",
              "      <td>...</td>\n",
              "      <td>...</td>\n",
              "      <td>...</td>\n",
              "      <td>...</td>\n",
              "      <td>...</td>\n",
              "      <td>...</td>\n",
              "      <td>...</td>\n",
              "      <td>...</td>\n",
              "      <td>...</td>\n",
              "      <td>...</td>\n",
              "      <td>...</td>\n",
              "      <td>...</td>\n",
              "      <td>...</td>\n",
              "      <td>...</td>\n",
              "      <td>...</td>\n",
              "      <td>...</td>\n",
              "      <td>...</td>\n",
              "    </tr>\n",
              "    <tr>\n",
              "      <th>7038</th>\n",
              "      <td>1</td>\n",
              "      <td>0</td>\n",
              "      <td>0</td>\n",
              "      <td>1</td>\n",
              "      <td>1</td>\n",
              "      <td>0</td>\n",
              "      <td>0</td>\n",
              "      <td>0</td>\n",
              "      <td>0</td>\n",
              "      <td>1</td>\n",
              "      <td>1</td>\n",
              "      <td>0</td>\n",
              "      <td>0</td>\n",
              "      <td>0</td>\n",
              "      <td>0</td>\n",
              "      <td>1</td>\n",
              "      <td>0</td>\n",
              "      <td>0</td>\n",
              "      <td>1</td>\n",
              "      <td>0</td>\n",
              "      <td>0</td>\n",
              "      <td>1</td>\n",
              "      <td>0</td>\n",
              "      <td>0</td>\n",
              "      <td>1</td>\n",
              "      <td>0</td>\n",
              "      <td>1</td>\n",
              "      <td>0</td>\n",
              "      <td>0</td>\n",
              "      <td>0</td>\n",
              "      <td>0</td>\n",
              "      <td>1</td>\n",
              "      <td>0</td>\n",
              "      <td>1</td>\n",
              "      <td>0</td>\n",
              "      <td>0</td>\n",
              "    </tr>\n",
              "    <tr>\n",
              "      <th>7039</th>\n",
              "      <td>0</td>\n",
              "      <td>0</td>\n",
              "      <td>0</td>\n",
              "      <td>1</td>\n",
              "      <td>0</td>\n",
              "      <td>1</td>\n",
              "      <td>0</td>\n",
              "      <td>1</td>\n",
              "      <td>0</td>\n",
              "      <td>0</td>\n",
              "      <td>0</td>\n",
              "      <td>0</td>\n",
              "      <td>1</td>\n",
              "      <td>0</td>\n",
              "      <td>0</td>\n",
              "      <td>1</td>\n",
              "      <td>1</td>\n",
              "      <td>0</td>\n",
              "      <td>0</td>\n",
              "      <td>0</td>\n",
              "      <td>0</td>\n",
              "      <td>1</td>\n",
              "      <td>0</td>\n",
              "      <td>0</td>\n",
              "      <td>1</td>\n",
              "      <td>0</td>\n",
              "      <td>1</td>\n",
              "      <td>0</td>\n",
              "      <td>0</td>\n",
              "      <td>1</td>\n",
              "      <td>0</td>\n",
              "      <td>0</td>\n",
              "      <td>0</td>\n",
              "      <td>0</td>\n",
              "      <td>0</td>\n",
              "      <td>1</td>\n",
              "    </tr>\n",
              "    <tr>\n",
              "      <th>7040</th>\n",
              "      <td>0</td>\n",
              "      <td>0</td>\n",
              "      <td>1</td>\n",
              "      <td>0</td>\n",
              "      <td>1</td>\n",
              "      <td>0</td>\n",
              "      <td>0</td>\n",
              "      <td>0</td>\n",
              "      <td>0</td>\n",
              "      <td>1</td>\n",
              "      <td>1</td>\n",
              "      <td>0</td>\n",
              "      <td>0</td>\n",
              "      <td>1</td>\n",
              "      <td>0</td>\n",
              "      <td>0</td>\n",
              "      <td>1</td>\n",
              "      <td>0</td>\n",
              "      <td>0</td>\n",
              "      <td>1</td>\n",
              "      <td>0</td>\n",
              "      <td>0</td>\n",
              "      <td>1</td>\n",
              "      <td>0</td>\n",
              "      <td>0</td>\n",
              "      <td>1</td>\n",
              "      <td>0</td>\n",
              "      <td>0</td>\n",
              "      <td>0</td>\n",
              "      <td>0</td>\n",
              "      <td>1</td>\n",
              "      <td>0</td>\n",
              "      <td>0</td>\n",
              "      <td>1</td>\n",
              "      <td>0</td>\n",
              "      <td>0</td>\n",
              "    </tr>\n",
              "    <tr>\n",
              "      <th>7041</th>\n",
              "      <td>1</td>\n",
              "      <td>0</td>\n",
              "      <td>0</td>\n",
              "      <td>1</td>\n",
              "      <td>0</td>\n",
              "      <td>1</td>\n",
              "      <td>0</td>\n",
              "      <td>1</td>\n",
              "      <td>0</td>\n",
              "      <td>0</td>\n",
              "      <td>1</td>\n",
              "      <td>0</td>\n",
              "      <td>0</td>\n",
              "      <td>1</td>\n",
              "      <td>0</td>\n",
              "      <td>0</td>\n",
              "      <td>1</td>\n",
              "      <td>0</td>\n",
              "      <td>0</td>\n",
              "      <td>1</td>\n",
              "      <td>0</td>\n",
              "      <td>0</td>\n",
              "      <td>1</td>\n",
              "      <td>0</td>\n",
              "      <td>0</td>\n",
              "      <td>1</td>\n",
              "      <td>0</td>\n",
              "      <td>0</td>\n",
              "      <td>0</td>\n",
              "      <td>0</td>\n",
              "      <td>0</td>\n",
              "      <td>1</td>\n",
              "      <td>1</td>\n",
              "      <td>0</td>\n",
              "      <td>0</td>\n",
              "      <td>0</td>\n",
              "    </tr>\n",
              "    <tr>\n",
              "      <th>7042</th>\n",
              "      <td>1</td>\n",
              "      <td>1</td>\n",
              "      <td>0</td>\n",
              "      <td>0</td>\n",
              "      <td>0</td>\n",
              "      <td>1</td>\n",
              "      <td>0</td>\n",
              "      <td>0</td>\n",
              "      <td>0</td>\n",
              "      <td>1</td>\n",
              "      <td>1</td>\n",
              "      <td>0</td>\n",
              "      <td>0</td>\n",
              "      <td>0</td>\n",
              "      <td>0</td>\n",
              "      <td>1</td>\n",
              "      <td>0</td>\n",
              "      <td>0</td>\n",
              "      <td>1</td>\n",
              "      <td>0</td>\n",
              "      <td>0</td>\n",
              "      <td>1</td>\n",
              "      <td>0</td>\n",
              "      <td>0</td>\n",
              "      <td>1</td>\n",
              "      <td>0</td>\n",
              "      <td>0</td>\n",
              "      <td>1</td>\n",
              "      <td>1</td>\n",
              "      <td>0</td>\n",
              "      <td>0</td>\n",
              "      <td>0</td>\n",
              "      <td>0</td>\n",
              "      <td>0</td>\n",
              "      <td>0</td>\n",
              "      <td>1</td>\n",
              "    </tr>\n",
              "  </tbody>\n",
              "</table>\n",
              "<p>7043 rows × 36 columns</p>\n",
              "</div>\n",
              "      <button class=\"colab-df-convert\" onclick=\"convertToInteractive('df-94b716da-48bd-435c-9909-d5f768ddc4f9')\"\n",
              "              title=\"Convert this dataframe to an interactive table.\"\n",
              "              style=\"display:none;\">\n",
              "        \n",
              "  <svg xmlns=\"http://www.w3.org/2000/svg\" height=\"24px\"viewBox=\"0 0 24 24\"\n",
              "       width=\"24px\">\n",
              "    <path d=\"M0 0h24v24H0V0z\" fill=\"none\"/>\n",
              "    <path d=\"M18.56 5.44l.94 2.06.94-2.06 2.06-.94-2.06-.94-.94-2.06-.94 2.06-2.06.94zm-11 1L8.5 8.5l.94-2.06 2.06-.94-2.06-.94L8.5 2.5l-.94 2.06-2.06.94zm10 10l.94 2.06.94-2.06 2.06-.94-2.06-.94-.94-2.06-.94 2.06-2.06.94z\"/><path d=\"M17.41 7.96l-1.37-1.37c-.4-.4-.92-.59-1.43-.59-.52 0-1.04.2-1.43.59L10.3 9.45l-7.72 7.72c-.78.78-.78 2.05 0 2.83L4 21.41c.39.39.9.59 1.41.59.51 0 1.02-.2 1.41-.59l7.78-7.78 2.81-2.81c.8-.78.8-2.07 0-2.86zM5.41 20L4 18.59l7.72-7.72 1.47 1.35L5.41 20z\"/>\n",
              "  </svg>\n",
              "      </button>\n",
              "      \n",
              "  <style>\n",
              "    .colab-df-container {\n",
              "      display:flex;\n",
              "      flex-wrap:wrap;\n",
              "      gap: 12px;\n",
              "    }\n",
              "\n",
              "    .colab-df-convert {\n",
              "      background-color: #E8F0FE;\n",
              "      border: none;\n",
              "      border-radius: 50%;\n",
              "      cursor: pointer;\n",
              "      display: none;\n",
              "      fill: #1967D2;\n",
              "      height: 32px;\n",
              "      padding: 0 0 0 0;\n",
              "      width: 32px;\n",
              "    }\n",
              "\n",
              "    .colab-df-convert:hover {\n",
              "      background-color: #E2EBFA;\n",
              "      box-shadow: 0px 1px 2px rgba(60, 64, 67, 0.3), 0px 1px 3px 1px rgba(60, 64, 67, 0.15);\n",
              "      fill: #174EA6;\n",
              "    }\n",
              "\n",
              "    [theme=dark] .colab-df-convert {\n",
              "      background-color: #3B4455;\n",
              "      fill: #D2E3FC;\n",
              "    }\n",
              "\n",
              "    [theme=dark] .colab-df-convert:hover {\n",
              "      background-color: #434B5C;\n",
              "      box-shadow: 0px 1px 3px 1px rgba(0, 0, 0, 0.15);\n",
              "      filter: drop-shadow(0px 1px 2px rgba(0, 0, 0, 0.3));\n",
              "      fill: #FFFFFF;\n",
              "    }\n",
              "  </style>\n",
              "\n",
              "      <script>\n",
              "        const buttonEl =\n",
              "          document.querySelector('#df-94b716da-48bd-435c-9909-d5f768ddc4f9 button.colab-df-convert');\n",
              "        buttonEl.style.display =\n",
              "          google.colab.kernel.accessAllowed ? 'block' : 'none';\n",
              "\n",
              "        async function convertToInteractive(key) {\n",
              "          const element = document.querySelector('#df-94b716da-48bd-435c-9909-d5f768ddc4f9');\n",
              "          const dataTable =\n",
              "            await google.colab.kernel.invokeFunction('convertToInteractive',\n",
              "                                                     [key], {});\n",
              "          if (!dataTable) return;\n",
              "\n",
              "          const docLinkHtml = 'Like what you see? Visit the ' +\n",
              "            '<a target=\"_blank\" href=https://colab.research.google.com/notebooks/data_table.ipynb>data table notebook</a>'\n",
              "            + ' to learn more about interactive tables.';\n",
              "          element.innerHTML = '';\n",
              "          dataTable['output_type'] = 'display_data';\n",
              "          await google.colab.output.renderOutput(dataTable, element);\n",
              "          const docLink = document.createElement('div');\n",
              "          docLink.innerHTML = docLinkHtml;\n",
              "          element.appendChild(docLink);\n",
              "        }\n",
              "      </script>\n",
              "    </div>\n",
              "  </div>\n",
              "  "
            ],
            "text/plain": [
              "      gender  MultipleLines_No  ...  ten_30-65  ten_65-75\n",
              "0          0                 0  ...          0          0\n",
              "1          1                 1  ...          1          0\n",
              "2          1                 1  ...          0          0\n",
              "3          1                 0  ...          1          0\n",
              "4          0                 1  ...          0          0\n",
              "...      ...               ...  ...        ...        ...\n",
              "7038       1                 0  ...          0          0\n",
              "7039       0                 0  ...          0          1\n",
              "7040       0                 0  ...          0          0\n",
              "7041       1                 0  ...          0          0\n",
              "7042       1                 1  ...          0          1\n",
              "\n",
              "[7043 rows x 36 columns]"
            ]
          },
          "metadata": {},
          "execution_count": 131
        }
      ]
    },
    {
      "cell_type": "code",
      "source": [
        "df2['Partner'] = df['Partner'].apply(lambda x: 1 if x== 'Yes' else 0)\n",
        "df2['Dependents'] = df['Dependents'].apply(lambda x: 1 if x== 'Yes' else 0)\n",
        "df2['PhoneService'] = df['PhoneService'].apply(lambda x: 1 if x== 'Yes' else 0)\n",
        "df2['PaperlessBilling'] = df['PaperlessBilling'].apply(lambda x: 1 if x== 'Yes' else 0)\n",
        "\n",
        "df2['Churn'] = df['Churn'].apply(lambda x: 1 if x== 'Yes' else 0)"
      ],
      "metadata": {
        "id": "IWn5P-aUTCRD"
      },
      "execution_count": 132,
      "outputs": []
    },
    {
      "cell_type": "code",
      "source": [
        "fig, ax = plt.subplots()\n",
        "sns.histplot(df['MonthlyCharges'], bins=20, ax=ax)\n",
        "# ax.set_xlim(0,100)\n",
        "ax.set_xticks(range(0,120,10))\n",
        "ax.grid()"
      ],
      "metadata": {
        "colab": {
          "base_uri": "https://localhost:8080/",
          "height": 279
        },
        "id": "7-6GKgkmUY4Q",
        "outputId": "93052eb3-7b2d-4ab8-eb85-fbe1ce55c5d9"
      },
      "execution_count": 68,
      "outputs": [
        {
          "output_type": "display_data",
          "data": {
            "image/png": "[encoded data removed]",
            "text/plain": [
              "<Figure size 432x288 with 1 Axes>"
            ]
          },
          "metadata": {
            "needs_background": "light"
          }
        }
      ]
    },
    {
      "cell_type": "code",
      "source": [
        "df['MonthlyCharges'].describe()"
      ],
      "metadata": {
        "colab": {
          "base_uri": "https://localhost:8080/"
        },
        "id": "KVisrOYWUFI1",
        "outputId": "5e7f9b4f-abe4-452b-b331-f24d75102b2f"
      },
      "execution_count": 71,
      "outputs": [
        {
          "output_type": "execute_result",
          "data": {
            "text/plain": [
              "count    7043.000000\n",
              "mean       64.761692\n",
              "std        30.090047\n",
              "min        18.250000\n",
              "25%        35.500000\n",
              "50%        70.350000\n",
              "75%        89.850000\n",
              "max       118.750000\n",
              "Name: MonthlyCharges, dtype: float64"
            ]
          },
          "metadata": {},
          "execution_count": 71
        }
      ]
    },
    {
      "cell_type": "code",
      "source": [
        "df['TotalCharges'].describe()"
      ],
      "metadata": {
        "colab": {
          "base_uri": "https://localhost:8080/"
        },
        "id": "zLlQ1KeWUFrd",
        "outputId": "b9692ff0-2e2e-47c9-84bc-974d39ff6e61"
      },
      "execution_count": 85,
      "outputs": [
        {
          "output_type": "execute_result",
          "data": {
            "text/plain": [
              "count     7043\n",
              "unique    6531\n",
              "top           \n",
              "freq        11\n",
              "Name: TotalCharges, dtype: object"
            ]
          },
          "metadata": {},
          "execution_count": 85
        }
      ]
    },
    {
      "cell_type": "markdown",
      "source": [
        "The 'TotalCharges' variable is not a string, its an object. It has to be changes to numeric to be processed. "
      ],
      "metadata": {
        "id": "0nwDoKdkYZ1e"
      }
    },
    {
      "cell_type": "code",
      "source": [
        "df['TotalCharges'] = pd.to_numeric(df['TotalCharges'], errors='coerce' )  ## errors='coerce' will transform the non-numeric values into NaN\n",
        "df['TotalCharges'].describe()"
      ],
      "metadata": {
        "colab": {
          "base_uri": "https://localhost:8080/"
        },
        "id": "XmAqZ1y0XTRT",
        "outputId": "7adcf714-6519-42df-d565-9d45517b75a1"
      },
      "execution_count": 133,
      "outputs": [
        {
          "output_type": "execute_result",
          "data": {
            "text/plain": [
              "count    7032.000000\n",
              "mean     2283.300441\n",
              "std      2266.771362\n",
              "min        18.800000\n",
              "25%       401.450000\n",
              "50%      1397.475000\n",
              "75%      3794.737500\n",
              "max      8684.800000\n",
              "Name: TotalCharges, dtype: float64"
            ]
          },
          "metadata": {},
          "execution_count": 133
        }
      ]
    },
    {
      "cell_type": "code",
      "source": [
        "fig, ax = plt.subplots()\n",
        "sns.histplot(df['TotalCharges'], bins=30, ax=ax)\n",
        "# ax.set_xlim(0,100)\n",
        "# ax.set_xticks(range(0,9000,100))\n",
        "ax.grid()"
      ],
      "metadata": {
        "colab": {
          "base_uri": "https://localhost:8080/",
          "height": 283
        },
        "id": "nT1xqOzkRhx2",
        "outputId": "7918e1d1-edb1-4689-beba-e47aa8b358e2"
      },
      "execution_count": 96,
      "outputs": [
        {
          "output_type": "display_data",
          "data": {
            "image/png": "[encoded data removed]",
            "text/plain": [
              "<Figure size 432x288 with 1 Axes>"
            ]
          },
          "metadata": {
            "needs_background": "light"
          }
        }
      ]
    },
    {
      "cell_type": "code",
      "source": [
        "## Numeric => Binning to 4 quantiles\n",
        "df['TotalChargesQt'] = pd.cut(df['tenure'], 4, \n",
        "                        labels=['Tot_Charg_Q1','Tot_Charg_Q2','Tot_Charg_Q3','Tot_Charg_Q4'])\n",
        "df['TotalChargesQt']"
      ],
      "metadata": {
        "id": "GYAnDoQJLlfC",
        "colab": {
          "base_uri": "https://localhost:8080/"
        },
        "outputId": "70711b1b-6484-4936-a7ed-849cd8389ad7"
      },
      "execution_count": 134,
      "outputs": [
        {
          "output_type": "execute_result",
          "data": {
            "text/plain": [
              "0       Tot_Charg_Q1\n",
              "1       Tot_Charg_Q2\n",
              "2       Tot_Charg_Q1\n",
              "3       Tot_Charg_Q3\n",
              "4       Tot_Charg_Q1\n",
              "            ...     \n",
              "7038    Tot_Charg_Q2\n",
              "7039    Tot_Charg_Q4\n",
              "7040    Tot_Charg_Q1\n",
              "7041    Tot_Charg_Q1\n",
              "7042    Tot_Charg_Q4\n",
              "Name: TotalChargesQt, Length: 7043, dtype: category\n",
              "Categories (4, object): ['Tot_Charg_Q1' < 'Tot_Charg_Q2' < 'Tot_Charg_Q3' < 'Tot_Charg_Q4']"
            ]
          },
          "metadata": {},
          "execution_count": 134
        }
      ]
    },
    {
      "cell_type": "code",
      "source": [
        "## Quantile Bins => One Hot Encoding\n",
        "one_hot_encoded_data = pd.get_dummies(df['TotalChargesQt'])\n",
        "df2 = pd.concat([df2, one_hot_encoded_data], axis=1)\n",
        "df2"
      ],
      "metadata": {
        "id": "kjlwaIAr9mGA",
        "colab": {
          "base_uri": "https://localhost:8080/",
          "height": 522
        },
        "outputId": "149ddcf1-0251-4be7-e0c5-a3991b01924e"
      },
      "execution_count": 135,
      "outputs": [
        {
          "output_type": "execute_result",
          "data": {
            "text/html": [
              "\n",
              "  <div id=\"df-dadc9f8c-f355-42b7-92c3-e5067629d7d9\">\n",
              "    <div class=\"colab-df-container\">\n",
              "      <div>\n",
              "<style scoped>\n",
              "    .dataframe tbody tr th:only-of-type {\n",
              "        vertical-align: middle;\n",
              "    }\n",
              "\n",
              "    .dataframe tbody tr th {\n",
              "        vertical-align: top;\n",
              "    }\n",
              "\n",
              "    .dataframe thead th {\n",
              "        text-align: right;\n",
              "    }\n",
              "</style>\n",
              "<table border=\"1\" class=\"dataframe\">\n",
              "  <thead>\n",
              "    <tr style=\"text-align: right;\">\n",
              "      <th></th>\n",
              "      <th>gender</th>\n",
              "      <th>MultipleLines_No</th>\n",
              "      <th>MultipleLines_No phone service</th>\n",
              "      <th>MultipleLines_Yes</th>\n",
              "      <th>InternetService_DSL</th>\n",
              "      <th>InternetService_Fiber optic</th>\n",
              "      <th>InternetService_No</th>\n",
              "      <th>OnlineSecurity_No</th>\n",
              "      <th>OnlineSecurity_No internet service</th>\n",
              "      <th>OnlineSecurity_Yes</th>\n",
              "      <th>OnlineBackup_No</th>\n",
              "      <th>OnlineBackup_No internet service</th>\n",
              "      <th>OnlineBackup_Yes</th>\n",
              "      <th>DeviceProtection_No</th>\n",
              "      <th>DeviceProtection_No internet service</th>\n",
              "      <th>DeviceProtection_Yes</th>\n",
              "      <th>TechSupport_No</th>\n",
              "      <th>TechSupport_No internet service</th>\n",
              "      <th>TechSupport_Yes</th>\n",
              "      <th>StreamingTV_No</th>\n",
              "      <th>StreamingTV_No internet service</th>\n",
              "      <th>StreamingTV_Yes</th>\n",
              "      <th>StreamingMovies_No</th>\n",
              "      <th>StreamingMovies_No internet service</th>\n",
              "      <th>StreamingMovies_Yes</th>\n",
              "      <th>Contract_Month-to-month</th>\n",
              "      <th>Contract_One year</th>\n",
              "      <th>Contract_Two year</th>\n",
              "      <th>PaymentMethod_Bank transfer (automatic)</th>\n",
              "      <th>PaymentMethod_Credit card (automatic)</th>\n",
              "      <th>PaymentMethod_Electronic check</th>\n",
              "      <th>PaymentMethod_Mailed check</th>\n",
              "      <th>ten_0-10</th>\n",
              "      <th>ten_10-30</th>\n",
              "      <th>ten_30-65</th>\n",
              "      <th>ten_65-75</th>\n",
              "      <th>Partner</th>\n",
              "      <th>Dependents</th>\n",
              "      <th>PhoneService</th>\n",
              "      <th>PaperlessBilling</th>\n",
              "      <th>Churn</th>\n",
              "      <th>Tot_Charg_Q1</th>\n",
              "      <th>Tot_Charg_Q2</th>\n",
              "      <th>Tot_Charg_Q3</th>\n",
              "      <th>Tot_Charg_Q4</th>\n",
              "    </tr>\n",
              "  </thead>\n",
              "  <tbody>\n",
              "    <tr>\n",
              "      <th>0</th>\n",
              "      <td>0</td>\n",
              "      <td>0</td>\n",
              "      <td>1</td>\n",
              "      <td>0</td>\n",
              "      <td>1</td>\n",
              "      <td>0</td>\n",
              "      <td>0</td>\n",
              "      <td>1</td>\n",
              "      <td>0</td>\n",
              "      <td>0</td>\n",
              "      <td>0</td>\n",
              "      <td>0</td>\n",
              "      <td>1</td>\n",
              "      <td>1</td>\n",
              "      <td>0</td>\n",
              "      <td>0</td>\n",
              "      <td>1</td>\n",
              "      <td>0</td>\n",
              "      <td>0</td>\n",
              "      <td>1</td>\n",
              "      <td>0</td>\n",
              "      <td>0</td>\n",
              "      <td>1</td>\n",
              "      <td>0</td>\n",
              "      <td>0</td>\n",
              "      <td>1</td>\n",
              "      <td>0</td>\n",
              "      <td>0</td>\n",
              "      <td>0</td>\n",
              "      <td>0</td>\n",
              "      <td>1</td>\n",
              "      <td>0</td>\n",
              "      <td>1</td>\n",
              "      <td>0</td>\n",
              "      <td>0</td>\n",
              "      <td>0</td>\n",
              "      <td>1</td>\n",
              "      <td>0</td>\n",
              "      <td>0</td>\n",
              "      <td>1</td>\n",
              "      <td>0</td>\n",
              "      <td>1</td>\n",
              "      <td>0</td>\n",
              "      <td>0</td>\n",
              "      <td>0</td>\n",
              "    </tr>\n",
              "    <tr>\n",
              "      <th>1</th>\n",
              "      <td>1</td>\n",
              "      <td>1</td>\n",
              "      <td>0</td>\n",
              "      <td>0</td>\n",
              "      <td>1</td>\n",
              "      <td>0</td>\n",
              "      <td>0</td>\n",
              "      <td>0</td>\n",
              "      <td>0</td>\n",
              "      <td>1</td>\n",
              "      <td>1</td>\n",
              "      <td>0</td>\n",
              "      <td>0</td>\n",
              "      <td>0</td>\n",
              "      <td>0</td>\n",
              "      <td>1</td>\n",
              "      <td>1</td>\n",
              "      <td>0</td>\n",
              "      <td>0</td>\n",
              "      <td>1</td>\n",
              "      <td>0</td>\n",
              "      <td>0</td>\n",
              "      <td>1</td>\n",
              "      <td>0</td>\n",
              "      <td>0</td>\n",
              "      <td>0</td>\n",
              "      <td>1</td>\n",
              "      <td>0</td>\n",
              "      <td>0</td>\n",
              "      <td>0</td>\n",
              "      <td>0</td>\n",
              "      <td>1</td>\n",
              "      <td>0</td>\n",
              "      <td>0</td>\n",
              "      <td>1</td>\n",
              "      <td>0</td>\n",
              "      <td>0</td>\n",
              "      <td>0</td>\n",
              "      <td>1</td>\n",
              "      <td>0</td>\n",
              "      <td>0</td>\n",
              "      <td>0</td>\n",
              "      <td>1</td>\n",
              "      <td>0</td>\n",
              "      <td>0</td>\n",
              "    </tr>\n",
              "    <tr>\n",
              "      <th>2</th>\n",
              "      <td>1</td>\n",
              "      <td>1</td>\n",
              "      <td>0</td>\n",
              "      <td>0</td>\n",
              "      <td>1</td>\n",
              "      <td>0</td>\n",
              "      <td>0</td>\n",
              "      <td>0</td>\n",
              "      <td>0</td>\n",
              "      <td>1</td>\n",
              "      <td>0</td>\n",
              "      <td>0</td>\n",
              "      <td>1</td>\n",
              "      <td>1</td>\n",
              "      <td>0</td>\n",
              "      <td>0</td>\n",
              "      <td>1</td>\n",
              "      <td>0</td>\n",
              "      <td>0</td>\n",
              "      <td>1</td>\n",
              "      <td>0</td>\n",
              "      <td>0</td>\n",
              "      <td>1</td>\n",
              "      <td>0</td>\n",
              "      <td>0</td>\n",
              "      <td>1</td>\n",
              "      <td>0</td>\n",
              "      <td>0</td>\n",
              "      <td>0</td>\n",
              "      <td>0</td>\n",
              "      <td>0</td>\n",
              "      <td>1</td>\n",
              "      <td>1</td>\n",
              "      <td>0</td>\n",
              "      <td>0</td>\n",
              "      <td>0</td>\n",
              "      <td>0</td>\n",
              "      <td>0</td>\n",
              "      <td>1</td>\n",
              "      <td>1</td>\n",
              "      <td>1</td>\n",
              "      <td>1</td>\n",
              "      <td>0</td>\n",
              "      <td>0</td>\n",
              "      <td>0</td>\n",
              "    </tr>\n",
              "    <tr>\n",
              "      <th>3</th>\n",
              "      <td>1</td>\n",
              "      <td>0</td>\n",
              "      <td>1</td>\n",
              "      <td>0</td>\n",
              "      <td>1</td>\n",
              "      <td>0</td>\n",
              "      <td>0</td>\n",
              "      <td>0</td>\n",
              "      <td>0</td>\n",
              "      <td>1</td>\n",
              "      <td>1</td>\n",
              "      <td>0</td>\n",
              "      <td>0</td>\n",
              "      <td>0</td>\n",
              "      <td>0</td>\n",
              "      <td>1</td>\n",
              "      <td>0</td>\n",
              "      <td>0</td>\n",
              "      <td>1</td>\n",
              "      <td>1</td>\n",
              "      <td>0</td>\n",
              "      <td>0</td>\n",
              "      <td>1</td>\n",
              "      <td>0</td>\n",
              "      <td>0</td>\n",
              "      <td>0</td>\n",
              "      <td>1</td>\n",
              "      <td>0</td>\n",
              "      <td>1</td>\n",
              "      <td>0</td>\n",
              "      <td>0</td>\n",
              "      <td>0</td>\n",
              "      <td>0</td>\n",
              "      <td>0</td>\n",
              "      <td>1</td>\n",
              "      <td>0</td>\n",
              "      <td>0</td>\n",
              "      <td>0</td>\n",
              "      <td>0</td>\n",
              "      <td>0</td>\n",
              "      <td>0</td>\n",
              "      <td>0</td>\n",
              "      <td>0</td>\n",
              "      <td>1</td>\n",
              "      <td>0</td>\n",
              "    </tr>\n",
              "    <tr>\n",
              "      <th>4</th>\n",
              "      <td>0</td>\n",
              "      <td>1</td>\n",
              "      <td>0</td>\n",
              "      <td>0</td>\n",
              "      <td>0</td>\n",
              "      <td>1</td>\n",
              "      <td>0</td>\n",
              "      <td>1</td>\n",
              "      <td>0</td>\n",
              "      <td>0</td>\n",
              "      <td>1</td>\n",
              "      <td>0</td>\n",
              "      <td>0</td>\n",
              "      <td>1</td>\n",
              "      <td>0</td>\n",
              "      <td>0</td>\n",
              "      <td>1</td>\n",
              "      <td>0</td>\n",
              "      <td>0</td>\n",
              "      <td>1</td>\n",
              "      <td>0</td>\n",
              "      <td>0</td>\n",
              "      <td>1</td>\n",
              "      <td>0</td>\n",
              "      <td>0</td>\n",
              "      <td>1</td>\n",
              "      <td>0</td>\n",
              "      <td>0</td>\n",
              "      <td>0</td>\n",
              "      <td>0</td>\n",
              "      <td>1</td>\n",
              "      <td>0</td>\n",
              "      <td>1</td>\n",
              "      <td>0</td>\n",
              "      <td>0</td>\n",
              "      <td>0</td>\n",
              "      <td>0</td>\n",
              "      <td>0</td>\n",
              "      <td>1</td>\n",
              "      <td>1</td>\n",
              "      <td>1</td>\n",
              "      <td>1</td>\n",
              "      <td>0</td>\n",
              "      <td>0</td>\n",
              "      <td>0</td>\n",
              "    </tr>\n",
              "    <tr>\n",
              "      <th>...</th>\n",
              "      <td>...</td>\n",
              "      <td>...</td>\n",
              "      <td>...</td>\n",
              "      <td>...</td>\n",
              "      <td>...</td>\n",
              "      <td>...</td>\n",
              "      <td>...</td>\n",
              "      <td>...</td>\n",
              "      <td>...</td>\n",
              "      <td>...</td>\n",
              "      <td>...</td>\n",
              "      <td>...</td>\n",
              "      <td>...</td>\n",
              "      <td>...</td>\n",
              "      <td>...</td>\n",
              "      <td>...</td>\n",
              "      <td>...</td>\n",
              "      <td>...</td>\n",
              "      <td>...</td>\n",
              "      <td>...</td>\n",
              "      <td>...</td>\n",
              "      <td>...</td>\n",
              "      <td>...</td>\n",
              "      <td>...</td>\n",
              "      <td>...</td>\n",
              "      <td>...</td>\n",
              "      <td>...</td>\n",
              "      <td>...</td>\n",
              "      <td>...</td>\n",
              "      <td>...</td>\n",
              "      <td>...</td>\n",
              "      <td>...</td>\n",
              "      <td>...</td>\n",
              "      <td>...</td>\n",
              "      <td>...</td>\n",
              "      <td>...</td>\n",
              "      <td>...</td>\n",
              "      <td>...</td>\n",
              "      <td>...</td>\n",
              "      <td>...</td>\n",
              "      <td>...</td>\n",
              "      <td>...</td>\n",
              "      <td>...</td>\n",
              "      <td>...</td>\n",
              "      <td>...</td>\n",
              "    </tr>\n",
              "    <tr>\n",
              "      <th>7038</th>\n",
              "      <td>1</td>\n",
              "      <td>0</td>\n",
              "      <td>0</td>\n",
              "      <td>1</td>\n",
              "      <td>1</td>\n",
              "      <td>0</td>\n",
              "      <td>0</td>\n",
              "      <td>0</td>\n",
              "      <td>0</td>\n",
              "      <td>1</td>\n",
              "      <td>1</td>\n",
              "      <td>0</td>\n",
              "      <td>0</td>\n",
              "      <td>0</td>\n",
              "      <td>0</td>\n",
              "      <td>1</td>\n",
              "      <td>0</td>\n",
              "      <td>0</td>\n",
              "      <td>1</td>\n",
              "      <td>0</td>\n",
              "      <td>0</td>\n",
              "      <td>1</td>\n",
              "      <td>0</td>\n",
              "      <td>0</td>\n",
              "      <td>1</td>\n",
              "      <td>0</td>\n",
              "      <td>1</td>\n",
              "      <td>0</td>\n",
              "      <td>0</td>\n",
              "      <td>0</td>\n",
              "      <td>0</td>\n",
              "      <td>1</td>\n",
              "      <td>0</td>\n",
              "      <td>1</td>\n",
              "      <td>0</td>\n",
              "      <td>0</td>\n",
              "      <td>1</td>\n",
              "      <td>1</td>\n",
              "      <td>1</td>\n",
              "      <td>1</td>\n",
              "      <td>0</td>\n",
              "      <td>0</td>\n",
              "      <td>1</td>\n",
              "      <td>0</td>\n",
              "      <td>0</td>\n",
              "    </tr>\n",
              "    <tr>\n",
              "      <th>7039</th>\n",
              "      <td>0</td>\n",
              "      <td>0</td>\n",
              "      <td>0</td>\n",
              "      <td>1</td>\n",
              "      <td>0</td>\n",
              "      <td>1</td>\n",
              "      <td>0</td>\n",
              "      <td>1</td>\n",
              "      <td>0</td>\n",
              "      <td>0</td>\n",
              "      <td>0</td>\n",
              "      <td>0</td>\n",
              "      <td>1</td>\n",
              "      <td>0</td>\n",
              "      <td>0</td>\n",
              "      <td>1</td>\n",
              "      <td>1</td>\n",
              "      <td>0</td>\n",
              "      <td>0</td>\n",
              "      <td>0</td>\n",
              "      <td>0</td>\n",
              "      <td>1</td>\n",
              "      <td>0</td>\n",
              "      <td>0</td>\n",
              "      <td>1</td>\n",
              "      <td>0</td>\n",
              "      <td>1</td>\n",
              "      <td>0</td>\n",
              "      <td>0</td>\n",
              "      <td>1</td>\n",
              "      <td>0</td>\n",
              "      <td>0</td>\n",
              "      <td>0</td>\n",
              "      <td>0</td>\n",
              "      <td>0</td>\n",
              "      <td>1</td>\n",
              "      <td>1</td>\n",
              "      <td>1</td>\n",
              "      <td>1</td>\n",
              "      <td>1</td>\n",
              "      <td>0</td>\n",
              "      <td>0</td>\n",
              "      <td>0</td>\n",
              "      <td>0</td>\n",
              "      <td>1</td>\n",
              "    </tr>\n",
              "    <tr>\n",
              "      <th>7040</th>\n",
              "      <td>0</td>\n",
              "      <td>0</td>\n",
              "      <td>1</td>\n",
              "      <td>0</td>\n",
              "      <td>1</td>\n",
              "      <td>0</td>\n",
              "      <td>0</td>\n",
              "      <td>0</td>\n",
              "      <td>0</td>\n",
              "      <td>1</td>\n",
              "      <td>1</td>\n",
              "      <td>0</td>\n",
              "      <td>0</td>\n",
              "      <td>1</td>\n",
              "      <td>0</td>\n",
              "      <td>0</td>\n",
              "      <td>1</td>\n",
              "      <td>0</td>\n",
              "      <td>0</td>\n",
              "      <td>1</td>\n",
              "      <td>0</td>\n",
              "      <td>0</td>\n",
              "      <td>1</td>\n",
              "      <td>0</td>\n",
              "      <td>0</td>\n",
              "      <td>1</td>\n",
              "      <td>0</td>\n",
              "      <td>0</td>\n",
              "      <td>0</td>\n",
              "      <td>0</td>\n",
              "      <td>1</td>\n",
              "      <td>0</td>\n",
              "      <td>0</td>\n",
              "      <td>1</td>\n",
              "      <td>0</td>\n",
              "      <td>0</td>\n",
              "      <td>1</td>\n",
              "      <td>1</td>\n",
              "      <td>0</td>\n",
              "      <td>1</td>\n",
              "      <td>0</td>\n",
              "      <td>1</td>\n",
              "      <td>0</td>\n",
              "      <td>0</td>\n",
              "      <td>0</td>\n",
              "    </tr>\n",
              "    <tr>\n",
              "      <th>7041</th>\n",
              "      <td>1</td>\n",
              "      <td>0</td>\n",
              "      <td>0</td>\n",
              "      <td>1</td>\n",
              "      <td>0</td>\n",
              "      <td>1</td>\n",
              "      <td>0</td>\n",
              "      <td>1</td>\n",
              "      <td>0</td>\n",
              "      <td>0</td>\n",
              "      <td>1</td>\n",
              "      <td>0</td>\n",
              "      <td>0</td>\n",
              "      <td>1</td>\n",
              "      <td>0</td>\n",
              "      <td>0</td>\n",
              "      <td>1</td>\n",
              "      <td>0</td>\n",
              "      <td>0</td>\n",
              "      <td>1</td>\n",
              "      <td>0</td>\n",
              "      <td>0</td>\n",
              "      <td>1</td>\n",
              "      <td>0</td>\n",
              "      <td>0</td>\n",
              "      <td>1</td>\n",
              "      <td>0</td>\n",
              "      <td>0</td>\n",
              "      <td>0</td>\n",
              "      <td>0</td>\n",
              "      <td>0</td>\n",
              "      <td>1</td>\n",
              "      <td>1</td>\n",
              "      <td>0</td>\n",
              "      <td>0</td>\n",
              "      <td>0</td>\n",
              "      <td>1</td>\n",
              "      <td>0</td>\n",
              "      <td>1</td>\n",
              "      <td>1</td>\n",
              "      <td>1</td>\n",
              "      <td>1</td>\n",
              "      <td>0</td>\n",
              "      <td>0</td>\n",
              "      <td>0</td>\n",
              "    </tr>\n",
              "    <tr>\n",
              "      <th>7042</th>\n",
              "      <td>1</td>\n",
              "      <td>1</td>\n",
              "      <td>0</td>\n",
              "      <td>0</td>\n",
              "      <td>0</td>\n",
              "      <td>1</td>\n",
              "      <td>0</td>\n",
              "      <td>0</td>\n",
              "      <td>0</td>\n",
              "      <td>1</td>\n",
              "      <td>1</td>\n",
              "      <td>0</td>\n",
              "      <td>0</td>\n",
              "      <td>0</td>\n",
              "      <td>0</td>\n",
              "      <td>1</td>\n",
              "      <td>0</td>\n",
              "      <td>0</td>\n",
              "      <td>1</td>\n",
              "      <td>0</td>\n",
              "      <td>0</td>\n",
              "      <td>1</td>\n",
              "      <td>0</td>\n",
              "      <td>0</td>\n",
              "      <td>1</td>\n",
              "      <td>0</td>\n",
              "      <td>0</td>\n",
              "      <td>1</td>\n",
              "      <td>1</td>\n",
              "      <td>0</td>\n",
              "      <td>0</td>\n",
              "      <td>0</td>\n",
              "      <td>0</td>\n",
              "      <td>0</td>\n",
              "      <td>0</td>\n",
              "      <td>1</td>\n",
              "      <td>0</td>\n",
              "      <td>0</td>\n",
              "      <td>1</td>\n",
              "      <td>1</td>\n",
              "      <td>0</td>\n",
              "      <td>0</td>\n",
              "      <td>0</td>\n",
              "      <td>0</td>\n",
              "      <td>1</td>\n",
              "    </tr>\n",
              "  </tbody>\n",
              "</table>\n",
              "<p>7043 rows × 45 columns</p>\n",
              "</div>\n",
              "      <button class=\"colab-df-convert\" onclick=\"convertToInteractive('df-dadc9f8c-f355-42b7-92c3-e5067629d7d9')\"\n",
              "              title=\"Convert this dataframe to an interactive table.\"\n",
              "              style=\"display:none;\">\n",
              "        \n",
              "  <svg xmlns=\"http://www.w3.org/2000/svg\" height=\"24px\"viewBox=\"0 0 24 24\"\n",
              "       width=\"24px\">\n",
              "    <path d=\"M0 0h24v24H0V0z\" fill=\"none\"/>\n",
              "    <path d=\"M18.56 5.44l.94 2.06.94-2.06 2.06-.94-2.06-.94-.94-2.06-.94 2.06-2.06.94zm-11 1L8.5 8.5l.94-2.06 2.06-.94-2.06-.94L8.5 2.5l-.94 2.06-2.06.94zm10 10l.94 2.06.94-2.06 2.06-.94-2.06-.94-.94-2.06-.94 2.06-2.06.94z\"/><path d=\"M17.41 7.96l-1.37-1.37c-.4-.4-.92-.59-1.43-.59-.52 0-1.04.2-1.43.59L10.3 9.45l-7.72 7.72c-.78.78-.78 2.05 0 2.83L4 21.41c.39.39.9.59 1.41.59.51 0 1.02-.2 1.41-.59l7.78-7.78 2.81-2.81c.8-.78.8-2.07 0-2.86zM5.41 20L4 18.59l7.72-7.72 1.47 1.35L5.41 20z\"/>\n",
              "  </svg>\n",
              "      </button>\n",
              "      \n",
              "  <style>\n",
              "    .colab-df-container {\n",
              "      display:flex;\n",
              "      flex-wrap:wrap;\n",
              "      gap: 12px;\n",
              "    }\n",
              "\n",
              "    .colab-df-convert {\n",
              "      background-color: #E8F0FE;\n",
              "      border: none;\n",
              "      border-radius: 50%;\n",
              "      cursor: pointer;\n",
              "      display: none;\n",
              "      fill: #1967D2;\n",
              "      height: 32px;\n",
              "      padding: 0 0 0 0;\n",
              "      width: 32px;\n",
              "    }\n",
              "\n",
              "    .colab-df-convert:hover {\n",
              "      background-color: #E2EBFA;\n",
              "      box-shadow: 0px 1px 2px rgba(60, 64, 67, 0.3), 0px 1px 3px 1px rgba(60, 64, 67, 0.15);\n",
              "      fill: #174EA6;\n",
              "    }\n",
              "\n",
              "    [theme=dark] .colab-df-convert {\n",
              "      background-color: #3B4455;\n",
              "      fill: #D2E3FC;\n",
              "    }\n",
              "\n",
              "    [theme=dark] .colab-df-convert:hover {\n",
              "      background-color: #434B5C;\n",
              "      box-shadow: 0px 1px 3px 1px rgba(0, 0, 0, 0.15);\n",
              "      filter: drop-shadow(0px 1px 2px rgba(0, 0, 0, 0.3));\n",
              "      fill: #FFFFFF;\n",
              "    }\n",
              "  </style>\n",
              "\n",
              "      <script>\n",
              "        const buttonEl =\n",
              "          document.querySelector('#df-dadc9f8c-f355-42b7-92c3-e5067629d7d9 button.colab-df-convert');\n",
              "        buttonEl.style.display =\n",
              "          google.colab.kernel.accessAllowed ? 'block' : 'none';\n",
              "\n",
              "        async function convertToInteractive(key) {\n",
              "          const element = document.querySelector('#df-dadc9f8c-f355-42b7-92c3-e5067629d7d9');\n",
              "          const dataTable =\n",
              "            await google.colab.kernel.invokeFunction('convertToInteractive',\n",
              "                                                     [key], {});\n",
              "          if (!dataTable) return;\n",
              "\n",
              "          const docLinkHtml = 'Like what you see? Visit the ' +\n",
              "            '<a target=\"_blank\" href=https://colab.research.google.com/notebooks/data_table.ipynb>data table notebook</a>'\n",
              "            + ' to learn more about interactive tables.';\n",
              "          element.innerHTML = '';\n",
              "          dataTable['output_type'] = 'display_data';\n",
              "          await google.colab.output.renderOutput(dataTable, element);\n",
              "          const docLink = document.createElement('div');\n",
              "          docLink.innerHTML = docLinkHtml;\n",
              "          element.appendChild(docLink);\n",
              "        }\n",
              "      </script>\n",
              "    </div>\n",
              "  </div>\n",
              "  "
            ],
            "text/plain": [
              "      gender  MultipleLines_No  ...  Tot_Charg_Q3  Tot_Charg_Q4\n",
              "0          0                 0  ...             0             0\n",
              "1          1                 1  ...             0             0\n",
              "2          1                 1  ...             0             0\n",
              "3          1                 0  ...             1             0\n",
              "4          0                 1  ...             0             0\n",
              "...      ...               ...  ...           ...           ...\n",
              "7038       1                 0  ...             0             0\n",
              "7039       0                 0  ...             0             1\n",
              "7040       0                 0  ...             0             0\n",
              "7041       1                 0  ...             0             0\n",
              "7042       1                 1  ...             0             1\n",
              "\n",
              "[7043 rows x 45 columns]"
            ]
          },
          "metadata": {},
          "execution_count": 135
        }
      ]
    },
    {
      "cell_type": "code",
      "source": [
        "df2['Churn']"
      ],
      "metadata": {
        "colab": {
          "base_uri": "https://localhost:8080/"
        },
        "id": "FmLqP6dXpHAz",
        "outputId": "1c30ab33-c48e-42f4-b2ea-11a71e809e04"
      },
      "execution_count": 137,
      "outputs": [
        {
          "output_type": "execute_result",
          "data": {
            "text/plain": [
              "0       0\n",
              "1       0\n",
              "2       1\n",
              "3       0\n",
              "4       1\n",
              "       ..\n",
              "7038    0\n",
              "7039    0\n",
              "7040    0\n",
              "7041    1\n",
              "7042    0\n",
              "Name: Churn, Length: 7043, dtype: int64"
            ]
          },
          "metadata": {},
          "execution_count": 137
        }
      ]
    },
    {
      "cell_type": "markdown",
      "source": [
        "Final step of Data Preparation. \n",
        "Split Train, Test data sest "
      ],
      "metadata": {
        "id": "c3v81pi7j0NY"
      }
    },
    {
      "cell_type": "code",
      "source": [
        "from sklearn.model_selection import train_test_split\n",
        "\n",
        "y=df2['Churn']\n",
        "print(y.shape)\n",
        "\n",
        "X=df2.drop(['Churn'], axis=1)\n",
        "print(X.shape)\n",
        "\n",
        "X_train, X_test, y_train, y_test = train_test_split(X, y, test_size=0.15, random_state=41)"
      ],
      "metadata": {
        "colab": {
          "base_uri": "https://localhost:8080/"
        },
        "id": "7_qV8EfZjxFq",
        "outputId": "76b353e2-9c82-49e9-f455-85f2a8301471"
      },
      "execution_count": 151,
      "outputs": [
        {
          "output_type": "stream",
          "name": "stdout",
          "text": [
            "(7043,)\n",
            "(7043, 44)\n"
          ]
        }
      ]
    },
    {
      "cell_type": "markdown",
      "source": [
        "# Prediction\n",
        "\n",
        "There are many algorithms can be used to predict this problem. Including Logistic Regression, Random Forest, XGBoost and we have enough data we can utilize Neural Network as well. \n",
        "\n",
        "Here Random Forest has been applied."
      ],
      "metadata": {
        "id": "-e5bYPdmi44j"
      }
    },
    {
      "cell_type": "code",
      "source": [
        "from sklearn.ensemble import RandomForestClassifier\n",
        "\n",
        "rf=RandomForestClassifier()\n",
        "rf.fit(X_train,y_train)\n",
        "prediction=rf.predict(X_test)\n",
        "print(accuracy_score(y_test,prediction))"
      ],
      "metadata": {
        "colab": {
          "base_uri": "https://localhost:8080/"
        },
        "id": "ku9Yv9rXrtff",
        "outputId": "6a64b6ac-bc2e-42dd-d297-5a07d3de0960"
      },
      "execution_count": 155,
      "outputs": [
        {
          "output_type": "stream",
          "name": "stdout",
          "text": [
            "0.7682119205298014\n"
          ]
        }
      ]
    },
    {
      "cell_type": "markdown",
      "source": [
        "With Confusion Matrix we have better understanding of model performance "
      ],
      "metadata": {
        "id": "_ZHlfAT_s-p8"
      }
    },
    {
      "cell_type": "code",
      "source": [
        "from sklearn.metrics import ConfusionMatrixDisplay\n",
        "print(\"Performance in Training\")\n",
        "ConfusionMatrixDisplay.from_estimator(rf, X_train, y_train)\n",
        "ConfusionMatrixDisplay.from_estimator(rf, X_train, y_train, normalize='true')"
      ],
      "metadata": {
        "colab": {
          "base_uri": "https://localhost:8080/",
          "height": 576
        },
        "id": "AgZ5ZzXIr0jB",
        "outputId": "43823598-86cc-4ef7-d054-1dd4a9cfaab3"
      },
      "execution_count": 160,
      "outputs": [
        {
          "output_type": "stream",
          "name": "stdout",
          "text": [
            "Performance in Training\n"
          ]
        },
        {
          "output_type": "execute_result",
          "data": {
            "text/plain": [
              "<sklearn.metrics._plot.confusion_matrix.ConfusionMatrixDisplay at 0x7f1d97f0be50>"
            ]
          },
          "metadata": {},
          "execution_count": 160
        },
        {
          "output_type": "display_data",
          "data": {
            "image/png": "[encoded data removed]",
            "text/plain": [
              "<Figure size 432x288 with 2 Axes>"
            ]
          },
          "metadata": {
            "needs_background": "light"
          }
        },
        {
          "output_type": "display_data",
          "data": {
            "image/png": "[encoded data removed]",
            "text/plain": [
              "<Figure size 432x288 with 2 Axes>"
            ]
          },
          "metadata": {
            "needs_background": "light"
          }
        }
      ]
    },
    {
      "cell_type": "code",
      "source": [
        "print(\"Testing Accuracy\")\n",
        "ConfusionMatrixDisplay.from_estimator(rf, X_test, y_test)\n",
        "ConfusionMatrixDisplay.from_estimator(rf, X_test, y_test, normalize='true')"
      ],
      "metadata": {
        "colab": {
          "base_uri": "https://localhost:8080/",
          "height": 576
        },
        "id": "o1la4xUctsxd",
        "outputId": "e217880e-17c7-4bd8-9c9a-8fbf982606e9"
      },
      "execution_count": 161,
      "outputs": [
        {
          "output_type": "stream",
          "name": "stdout",
          "text": [
            "Testing Accuracy\n"
          ]
        },
        {
          "output_type": "execute_result",
          "data": {
            "text/plain": [
              "<sklearn.metrics._plot.confusion_matrix.ConfusionMatrixDisplay at 0x7f1d97d13a10>"
            ]
          },
          "metadata": {},
          "execution_count": 161
        },
        {
          "output_type": "display_data",
          "data": {
            "image/png": "[encoded data removed]",
            "text/plain": [
              "<Figure size 432x288 with 2 Axes>"
            ]
          },
          "metadata": {
            "needs_background": "light"
          }
        },
        {
          "output_type": "display_data",
          "data": {
            "image/png": "[encoded data removed]",
            "text/plain": [
              "<Figure size 432x288 with 2 Axes>"
            ]
          },
          "metadata": {
            "needs_background": "light"
          }
        }
      ]
    },
    {
      "cell_type": "markdown",
      "source": [
        "To get better result we try to improve the model by tuning the hyper-parameters of Random Forest "
      ],
      "metadata": {
        "id": "wTSlZOMQr3JW"
      }
    },
    {
      "cell_type": "code",
      "source": [
        "from sklearn.ensemble import RandomForestClassifier\n",
        "\n",
        "rf_random=RandomForestClassifier()\n",
        "param_grid={'n_estimators':[int(x) for x in np.linspace(start=200,stop=1000,num=11)],\n",
        "            'max_features':['auto','sqrt'],\n",
        "            'max_depth':[int(x) for x in np.linspace(start=10,stop=100,num=21)],\n",
        "            'min_samples_leaf':[1,2,3,5],\n",
        "            'min_samples_split':[2,5,10,15]}\n",
        "\n",
        "random_cv=RandomizedSearchCV(rf_random,param_grid,cv=5,verbose=0,random_state=42)\n",
        "random_cv.fit(X_train,y_train)\n",
        "best_random=random_cv.best_estimator_\n",
        "prediction_cv=best_random.predict(X_test)\n",
        "print(accuracy_score(y_test,prediction_cv))"
      ],
      "metadata": {
        "colab": {
          "base_uri": "https://localhost:8080/"
        },
        "id": "L9CK8kpfexpf",
        "outputId": "3734e81b-0c33-49c0-8958-fd7dfb8ee849"
      },
      "execution_count": 162,
      "outputs": [
        {
          "output_type": "stream",
          "name": "stdout",
          "text": [
            "0.8022705771050141\n"
          ]
        }
      ]
    },
    {
      "cell_type": "code",
      "source": [
        "from sklearn.metrics import ConfusionMatrixDisplay\n",
        "print(\"Performance in Training\")\n",
        "ConfusionMatrixDisplay.from_estimator(best_random, X_train, y_train)\n",
        "ConfusionMatrixDisplay.from_estimator(best_random, X_train, y_train, normalize='true')"
      ],
      "metadata": {
        "colab": {
          "base_uri": "https://localhost:8080/",
          "height": 576
        },
        "id": "zqThBLwOrM8R",
        "outputId": "d9e7093b-9d21-48ad-8989-7bcacfb7bfb6"
      },
      "execution_count": 163,
      "outputs": [
        {
          "output_type": "stream",
          "name": "stdout",
          "text": [
            "Performance in Training\n"
          ]
        },
        {
          "output_type": "execute_result",
          "data": {
            "text/plain": [
              "<sklearn.metrics._plot.confusion_matrix.ConfusionMatrixDisplay at 0x7f1d97c07d10>"
            ]
          },
          "metadata": {},
          "execution_count": 163
        },
        {
          "output_type": "display_data",
          "data": {
            "image/png": "[encoded data removed]",
            "text/plain": [
              "<Figure size 432x288 with 2 Axes>"
            ]
          },
          "metadata": {
            "needs_background": "light"
          }
        },
        {
          "output_type": "display_data",
          "data": {
            "image/png": "[encoded data removed]",
            "text/plain": [
              "<Figure size 432x288 with 2 Axes>"
            ]
          },
          "metadata": {
            "needs_background": "light"
          }
        }
      ]
    },
    {
      "cell_type": "code",
      "source": [
        "print(\"Testing Accuracy\")\n",
        "ConfusionMatrixDisplay.from_estimator(best_random, X_test, y_test)\n",
        "ConfusionMatrixDisplay.from_estimator(best_random, X_test, y_test, normalize='true')"
      ],
      "metadata": {
        "colab": {
          "base_uri": "https://localhost:8080/",
          "height": 580
        },
        "id": "ZyDsQek3exlY",
        "outputId": "a1d3c3cc-4379-4859-822d-f5ebba0eaad6"
      },
      "execution_count": 164,
      "outputs": [
        {
          "output_type": "stream",
          "name": "stdout",
          "text": [
            "Testing Accuracy\n"
          ]
        },
        {
          "output_type": "execute_result",
          "data": {
            "text/plain": [
              "<sklearn.metrics._plot.confusion_matrix.ConfusionMatrixDisplay at 0x7f1d97fff790>"
            ]
          },
          "metadata": {},
          "execution_count": 164
        },
        {
          "output_type": "display_data",
          "data": {
            "image/png": "[encoded data removed]",
            "text/plain": [
              "<Figure size 432x288 with 2 Axes>"
            ]
          },
          "metadata": {
            "needs_background": "light"
          }
        },
        {
          "output_type": "display_data",
          "data": {
            "image/png": "[encoded data removed]",
            "text/plain": [
              "<Figure size 432x288 with 2 Axes>"
            ]
          },
          "metadata": {
            "needs_background": "light"
          }
        }
      ]
    },
    {
      "cell_type": "markdown",
      "source": [
        "We can see by hyper tuning the model the accuracy increased around 4%. Specifically the first model had 50% accuracy in predicting Churn, while by hypertuning the parameters, accuracy rised to 54%"
      ],
      "metadata": {
        "id": "VR05tvYkqcEt"
      }
    },
    {
      "cell_type": "code",
      "source": [
        "df2['Churn'].value_counts()"
      ],
      "metadata": {
        "colab": {
          "base_uri": "https://localhost:8080/"
        },
        "id": "MJ_3bXRuvmEw",
        "outputId": "c3c21c0f-8225-4fec-e0fa-8e331b03a3a7"
      },
      "execution_count": 165,
      "outputs": [
        {
          "output_type": "execute_result",
          "data": {
            "text/plain": [
              "0    5174\n",
              "1    1869\n",
              "Name: Churn, dtype: int64"
            ]
          },
          "metadata": {},
          "execution_count": 165
        }
      ]
    },
    {
      "cell_type": "markdown",
      "source": [
        "We can see the due to bias in data, the model accuracy can be improved by doing more freature engineering or applying different ML models. "
      ],
      "metadata": {
        "id": "9_gvxL2Sqb-p"
      }
    }
  ]
}